{
 "cells": [
  {
   "cell_type": "code",
   "execution_count": 4,
   "metadata": {},
   "outputs": [],
   "source": [
    "from src import GraphCreation"
   ]
  },
  {
   "cell_type": "code",
   "execution_count": 5,
   "metadata": {},
   "outputs": [],
   "source": [
    "import os\n",
    "os.environ['OPENAI_API_KEY']= \"\""
   ]
  },
  {
   "cell_type": "code",
   "execution_count": 7,
   "metadata": {},
   "outputs": [
    {
     "name": "stdout",
     "output_type": "stream",
     "text": [
      "Number of chunks: 3\n",
      "./animals/graph.html\n",
      "./animals/clustered_graph.html\n"
     ]
    }
   ],
   "source": [
    "import networkx as nx\n",
    "chunks, g =GraphCreation.create_KG_from_url(\"https://en.wikipedia.org/wiki/Knight_of_the_shire\", chunks_precentage_linked=1, eliminate_all_islands=True, num=15, inital_repeats=1, ner=True, ner_type=\"llm\",output_file=\"./animals\")"
   ]
  },
  {
   "cell_type": "code",
   "execution_count": 5,
   "metadata": {},
   "outputs": [
    {
     "name": "stdout",
     "output_type": "stream",
     "text": [
      "Number of chunks: 17\n"
     ]
    },
    {
     "name": "stderr",
     "output_type": "stream",
     "text": [
      "Exception in thread Thread-51 (_make_one_triplet):\n",
      "Traceback (most recent call last):\n",
      "  File \"/Library/Frameworks/Python.framework/Versions/3.12/lib/python3.12/threading.py\", line 1052, in _bootstrap_inner\n",
      "    self.run()\n",
      "  File \"/Users/chrisoosthuizen/Library/Python/3.12/lib/python/site-packages/ipykernel/ipkernel.py\", line 766, in run_closure\n",
      "    _threading_Thread_run(self)\n",
      "  File \"/Library/Frameworks/Python.framework/Versions/3.12/lib/python3.12/threading.py\", line 989, in run\n",
      "    self._target(*self._args, **self._kwargs)\n",
      "  File \"/Users/chrisoosthuizen/projects/GraphCreator/src/GraphCreation/GraphCreation.py\", line 83, in _make_one_triplet\n",
      "    chu = create_knowledge_triplets(text_chunk=chunk, model_id=LLM.pick_gpu(position), ner=ner, ner_type=ner_type, num=num)\n",
      "          ^^^^^^^^^^^^^^^^^^^^^^^^^^^^^^^^^^^^^^^^^^^^^^^^^^^^^^^^^^^^^^^^^^^^^^^^^^^^^^^^^^^^^^^^^^^^^^^^^^^^^^^^^^^^^^^^^\n",
      "  File \"/Users/chrisoosthuizen/projects/GraphCreator/src/GraphCreation/GraphCreation.py\", line 58, in create_knowledge_triplets\n",
      "    response = str(lp._fix_ontology(response, text_chunk, model_id=model_id))\n",
      "                   ^^^^^^^^^^^^^^^^^^^^^^^^^^^^^^^^^^^^^^^^^^^^^^^^^^^^^^^^^\n",
      "  File \"/Users/chrisoosthuizen/projects/GraphCreator/src/GraphCreation/LinkPrediction.py\", line 109, in _fix_ontology\n",
      "    chunks = _one_switch(ont)\n",
      "             ^^^^^^^^^^^^^^^^\n",
      "  File \"/Users/chrisoosthuizen/projects/GraphCreator/src/GraphCreation/LinkPrediction.py\", line 93, in _one_switch\n",
      "    G.add_edge(x[\"node_1\"], x[\"node_2\"], label=x[\"edge\"])\n",
      "  File \"/Library/Frameworks/Python.framework/Versions/3.12/lib/python3.12/site-packages/networkx/classes/graph.py\", line 950, in add_edge\n",
      "    if v not in self._node:\n",
      "       ^^^^^^^^^^^^^^^^^^^\n",
      "TypeError: unhashable type: 'list'\n"
     ]
    }
   ],
   "source": [
    "import networkx as nx\n",
    "chunks, g =GraphCreation.create_KG_from_url(\"https://en.wikipedia.org/wiki/Reform_Act_1832\", chunks_precentage_linked=1, eliminate_all_islands=True, num=15, inital_repeats=2, ner=True, ner_type=\"llm\",output_file=\"./rights\")"
   ]
  },
  {
   "cell_type": "code",
   "execution_count": null,
   "metadata": {},
   "outputs": [],
   "source": []
  }
 ],
 "metadata": {
  "kernelspec": {
   "display_name": "Python 3",
   "language": "python",
   "name": "python3"
  },
  "language_info": {
   "codemirror_mode": {
    "name": "ipython",
    "version": 3
   },
   "file_extension": ".py",
   "mimetype": "text/x-python",
   "name": "python",
   "nbconvert_exporter": "python",
   "pygments_lexer": "ipython3",
   "version": "3.12.0"
  }
 },
 "nbformat": 4,
 "nbformat_minor": 2
}
