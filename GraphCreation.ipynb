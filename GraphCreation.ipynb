{
 "cells": [
  {
   "cell_type": "code",
   "execution_count": 1,
   "metadata": {},
   "outputs": [
    {
     "name": "stdout",
     "output_type": "stream",
     "text": [
      "Note: to be able to use all crisp methods, you need to install some additional packages:  {'infomap', 'bayanpy', 'wurlitzer', 'graph_tool'}\n",
      "Note: to be able to use all crisp methods, you need to install some additional packages:  {'ASLPAw', 'pyclustering'}\n",
      "Note: to be able to use all crisp methods, you need to install some additional packages:  {'infomap', 'wurlitzer'}\n"
     ]
    }
   ],
   "source": [
    "from src import GraphCreation"
   ]
  },
  {
   "cell_type": "code",
   "execution_count": 2,
   "metadata": {},
   "outputs": [],
   "source": [
    "words = \"\"\"\n",
    "knight of the shire\n",
    "latin\n",
    "milites comitatus\n",
    "member of parliament\n",
    "MP\n",
    "county constituency\n",
    "British House of Commons\n",
    "Parliament of England\n",
    "Redistribution of Seats Act 1885\n",
    "county\n",
    "shire\n",
    "burgess\n",
    "borough constituency\n",
    "citizen\n",
    "borough\n",
    "city status\n",
    "baron\n",
    "Cinque Ports\n",
    "Knights of the shire\n",
    "Parliament\"\"\".lower().split(\"\\n\")"
   ]
  },
  {
   "cell_type": "code",
   "execution_count": 3,
   "metadata": {},
   "outputs": [],
   "source": [
    "from src import GraphCreation\n",
    "words = GraphCreation.textformatting.token_compression(words)"
   ]
  },
  {
   "cell_type": "code",
   "execution_count": 4,
   "metadata": {},
   "outputs": [
    {
     "data": {
      "text/plain": [
       "{'latin': 'latin',\n",
       " 'mp': 'mp',\n",
       " 'county': 'county',\n",
       " 'shire': 'shire',\n",
       " 'borough': 'borough',\n",
       " 'kn': 'knight of the shire',\n",
       " 'mil': 'milites comitatus',\n",
       " 'memberof': 'member of parliament',\n",
       " 'const': 'county constituency',\n",
       " 'brit': 'british house of commons',\n",
       " 'par': 'parliament of england',\n",
       " 'redis': 'redistribution of seats act 1885',\n",
       " 'burg': 'burgess',\n",
       " 'itu': 'borough constituency',\n",
       " 'cit': 'citizen',\n",
       " 'city': 'city status',\n",
       " 'bar': 'baron',\n",
       " 'cin': 'cinque ports',\n",
       " 'ight': 'knights of the shire',\n",
       " 'liament': 'parliament'}"
      ]
     },
     "execution_count": 4,
     "metadata": {},
     "output_type": "execute_result"
    }
   ],
   "source": [
    "words"
   ]
  },
  {
   "cell_type": "code",
   "execution_count": 6,
   "metadata": {},
   "outputs": [
    {
     "name": "stdout",
     "output_type": "stream",
     "text": [
      "knight of the shire formaltitleof member of parliament \n",
      "member of parliament represents county constituency \n",
      "county constituency partof british house of commons \n",
      "british house of commons originatedin parliament of england \n",
      "redistribution of seats act 1885 ended practice \n",
      "county single county constituency \n",
      "shire single county constituency \n",
      "titles other mps \n",
      "burgess partof borough constituency \n",
      "citizen partof borough constituency \n",
      "borough constituency has city status \n",
      "baron partof cinque ports \n",
      "knight of the shire moreprestige burgess \n",
      "burgess stoodforelection knight of the shire \n",
      "knight of the shire hasstanding parliament \n"
     ]
    }
   ],
   "source": [
    "entites = \"\"\"kn,formalTitleof,memberof\n",
    "memberof,represents,const\n",
    "const,partOf,brit\n",
    "brit,originatedIn,par\n",
    "redis,ended,practice\n",
    "county,single,const\n",
    "shire,single,const\n",
    "titles,other,MPs\n",
    "burgess,partOf,itu\n",
    "citizen,partOf,itu\n",
    "itu,has,city\n",
    "baron,partOf,cin\n",
    "kn,morePrestige,burgess\n",
    "burgess,stoodForElection,kn\n",
    "kn,hasStanding,liament\"\"\".lower().split(\"\\n\")\n",
    "\n",
    "for x in range(len(entites)):\n",
    "    objects = entites[x].split(\",\")\n",
    "    if objects[0] in words:\n",
    "        print(words[objects[0]],end=\" \")\n",
    "    else:\n",
    "        print(objects[0],end=\" \")\n",
    "    print(objects[1],end=\" \")\n",
    "    if objects[2] in words:\n",
    "        print(words[objects[2]],end=\" \")\n",
    "    else:\n",
    "        print(objects[2],end=\" \")\n",
    "    print()\n"
   ]
  },
  {
   "cell_type": "code",
   "execution_count": 5,
   "metadata": {},
   "outputs": [],
   "source": [
    "import os\n",
    "os.environ['OPENAI_API_KEY']= \"\""
   ]
  },
  {
   "cell_type": "code",
   "execution_count": 6,
   "metadata": {},
   "outputs": [
    {
     "name": "stdout",
     "output_type": "stream",
     "text": [
      "Number of chunks: 16\n",
      "['']\n",
      "['knights', 'eligible for election']\n",
      "['notable esquires and gentlemen', 'eligible for election']\n",
      "['']\n",
      "['chunk 1:']\n",
      "['']\n",
      "['chunk 2:']\n",
      "['']\n",
      "['unified ontology:']\n",
      "['']\n",
      "['```']\n",
      "['```']\n",
      "./animals/graph.html\n",
      "./animals/clustered_graph.html\n"
     ]
    }
   ],
   "source": [
    "import networkx as nx\n",
    "chunks, g =GraphCreation.create_KG_from_url(\"https://en.wikipedia.org/wiki/Knight_of_the_shire\", chunks_precentage_linked=0, eliminate_all_islands=False, num=20,llm_formatting=False, inital_repeats=30, ner=False, ner_type=\"llm\",output_file=\"./animals\")"
   ]
  },
  {
   "cell_type": "code",
   "execution_count": 7,
   "metadata": {},
   "outputs": [
    {
     "data": {
      "text/plain": [
       "'The Knights of the Shire were representatives of the county in the English Parliament during the medieval and early modern periods. The term \"Knights of the Shire\" refers to long-serving conservative backbenchers and is often used in journalese. \\n\\nThe representation of the people act 1832 increased the number of knights in some counties, such as Yorkshire, to four. The method of choosing knights varied by county, and the role of knights became outdated over time. The term \"knights\" eventually died out during the 20th century due to the destruction of counties and the rapid decline in their significance.\\n\\nA knight was typically affiliated with a shire, which is a region or territory that is also known as a county. The concept of a knight of the shire is explained in articles that list information about them, such as their history and role in Parliament.'"
      ]
     },
     "execution_count": 7,
     "metadata": {},
     "output_type": "execute_result"
    }
   ],
   "source": [
    "from src import LLMFunctions as llm\n",
    "llm.graphquestions(g, \"tell me about the knights of the shire\")"
   ]
  },
  {
   "cell_type": "code",
   "execution_count": 7,
   "metadata": {},
   "outputs": [
    {
     "name": "stdout",
     "output_type": "stream",
     "text": [
      "Number of chunks: 6\n",
      "./rights/graph.html\n",
      "./rights/clustered_graph.html\n"
     ]
    }
   ],
   "source": [
    "import networkx as nx\n",
    "chunks, g =GraphCreation.create_KG_from_pdf(\"/Users/chrisoosthuizen/projects/GraphCreator/NathanLeeResumeWinter2023 - Google Docs (1).pdf\", chunks_precentage_linked=0, eliminate_all_islands=False, num=20, inital_repeats=10, ner=True, ner_type=\"llm\",output_file=\"./rights\")"
   ]
  },
  {
   "cell_type": "code",
   "execution_count": 4,
   "metadata": {},
   "outputs": [],
   "source": [
    "import networkx as nx\n",
    "g = nx.read_graphml(\"./animals/graph.graphml\")"
   ]
  },
  {
   "cell_type": "code",
   "execution_count": 8,
   "metadata": {},
   "outputs": [
    {
     "data": {
      "text/plain": [
       "'The \"knights of the shire,\" also known as \"knights of the shire and county,\" were a key part of England\\'s parliamentary system in the medieval and early modern periods. These knights were representatives elected by the landowning, or \"freeholder,\" population of each shire (county) to serve in the Parliament of England, particularly in the House of Commons. Here are some key points about them:\\n\\n1. **Historical Background**: The tradition of electing knights to represent shires dates back to the 13th century during the reign of King Edward I. Specifically, it is often associated with the Model Parliament of 1295, which called for representatives from each shire and borough.\\n\\n2. **Role in Parliament**: The primary function of the knights of the shire was to represent the interests of their shires in the House of Commons. They played a crucial role in discussing and consenting to taxes and legislation that affected the realm.\\n\\n3. **Eligibility and Election**: Originally, to be eligible for election as a knight of the shire, a candidate needed to be a substantial landowner, typically a knight by social status, though not necessarily knighted. In early years, all freeholders who held land worth at least 40 shillings annually (a significant amount at the time) could vote in these elections. \\n\\n4. **Representation**: Each shire typically sent two knights to Parliament, although this number could vary. Some larger or more significant counties had more representation.\\n\\n5. **Impact on Governance**: The inclusion of knights of the shire in Parliament marked a significant development in English governance, reflecting broader representation beyond the nobility and clergy. Their participation underscored the increasing importance of commoners (albeit still a wealthy and influential subset) in the legislative process.\\n\\n6. **Evolution Over Time**: Over the centuries, the role and influence of the knights of the shire evolved, especially as parliamentary democracy further developed. By the time of the reforms in the 19th century, like the Reform Act 1832, the nature of representation and electoral systems had become more complex and inclusive, changing the landscape of parliamentary representation.\\n\\nThe knights of the shire played a foundational role in the development of a more representative and structured parliamentary system in England, contributing to the gradual evolution of more democratic forms of governance.'"
      ]
     },
     "execution_count": 8,
     "metadata": {},
     "output_type": "execute_result"
    }
   ],
   "source": [
    "llm.generate_chat_response(\"\",\"Tell me about the knights of the shire\")"
   ]
  },
  {
   "cell_type": "code",
   "execution_count": null,
   "metadata": {},
   "outputs": [],
   "source": []
  }
 ],
 "metadata": {
  "kernelspec": {
   "display_name": "Python 3",
   "language": "python",
   "name": "python3"
  },
  "language_info": {
   "codemirror_mode": {
    "name": "ipython",
    "version": 3
   },
   "file_extension": ".py",
   "mimetype": "text/x-python",
   "name": "python",
   "nbconvert_exporter": "python",
   "pygments_lexer": "ipython3",
   "version": "3.12.0"
  }
 },
 "nbformat": 4,
 "nbformat_minor": 2
}
