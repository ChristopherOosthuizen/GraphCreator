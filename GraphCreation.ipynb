{
 "cells": [
  {
   "cell_type": "code",
   "execution_count": 1,
   "metadata": {},
   "outputs": [
    {
     "name": "stdout",
     "output_type": "stream",
     "text": [
      "Note: to be able to use all crisp methods, you need to install some additional packages:  {'bayanpy', 'infomap', 'wurlitzer', 'graph_tool'}\n",
      "Note: to be able to use all crisp methods, you need to install some additional packages:  {'pyclustering', 'ASLPAw'}\n",
      "Note: to be able to use all crisp methods, you need to install some additional packages:  {'infomap', 'wurlitzer'}\n"
     ]
    }
   ],
   "source": [
    "from src import GraphCreation"
   ]
  },
  {
   "cell_type": "code",
   "execution_count": 2,
   "metadata": {},
   "outputs": [],
   "source": [
    "import os\n",
    "os.environ['OPENAI_API_KEY']= \"\""
   ]
  },
  {
   "cell_type": "code",
   "execution_count": 3,
   "metadata": {},
   "outputs": [
    {
     "name": "stdout",
     "output_type": "stream",
     "text": [
      "Number of chunks: 16\n",
      "['']\n",
      "page_content,source,w:wikipedia\n",
      "elderly,hastype,members\n",
      "conservative,hasrole,backbenchers\n",
      "backbenchers,hasattribute,long service\n",
      "backbenchers,possesses,knighthood\n",
      "members,emonym,conservative\n",
      "parliament,legislates,county franchise\n",
      "act,enacted,suffrage limitation\n",
      "suffrage limitation,limited to,persons qualified by freehold of 40s\n",
      "parliament,related to,act\n",
      "county franchise,connected with,suffrage limitation\n",
      "borough constituency,hadstatus,city\n",
      "baron,belongsto,cin\n",
      "kn,haveprestigeover,burgesses\n",
      "burgesses,runfor,shire\n",
      "burgesses,seekstandingin,par\n",
      "borough constituency,linkedto,borough\n",
      "borough constituency,comparesagainst,kn\n",
      "borough constituency,relatedto,par\n",
      "forty-shilling freeholds,consideredas,authorities\n",
      "182,increased number of knights to,y\n",
      "representation,increased number of knights,y\n",
      "populous countiesauthorities,increased number of knights,183\n",
      "183,send,six knights\n",
      "two knights,send,counties\n",
      "o,changed,residence requirement\n",
      "populous countiesauthorities,increased number of knights,representation\n",
      "representation,increased number of knights to,six knights\n",
      "counties,send,four knights\n",
      "counties,destroyed,ther  \n",
      "reform act of 1884,expanded,electorate  \n",
      "electorate,expanded,representation  \n",
      "term,died out in,20  \n",
      "re,and,ther  \n",
      "re,and,third  \n",
      "representation,and,third  \n",
      "representation,and,20  \n",
      "ther,made,term obsolete  \n",
      "members,represent,county constituencies  \n",
      "members,no longer represent,whole county  \n",
      "members of parliament,represent,county constituenciesther  \n",
      "20,followed,ther  \n",
      "county constituencies,broadened,representation\n",
      "kn,meant to be,knight\n",
      "kn,referred to,w\n",
      "kn,includeduntil,19\n",
      "mencommander,stdelectedby,14\n",
      "hen,passing,23\n",
      "w,inforceuntil,19\n",
      "w,rulefor,w\n",
      "23,referencedby,hen\n",
      "kn,relatedtonot,yeoman\n",
      "king,hascouncil,mag\n",
      "king,summons,knights of the shire\n",
      "mag,consistsof,peers\n",
      "mag,consistsof,ecclesiastics\n",
      "mag,evolvedto,representboroughs\n",
      "mag,evolvedfrom,parliament\n",
      "parliament,receivedpowersin,1295\n",
      "parliament,split,ed\n",
      "parliament,evolvedfrom,magbicameralstructure\n",
      "mont,requires,electedmembers\n",
      "bicameral,hasstructure,model\n",
      "bicameralstructure,includes,house\n",
      "mag,requires,mont\n",
      "king,split,parliament\n",
      "mont,evolvedfrom,mag\n",
      "['']\n",
      "s,became,del\n",
      "s,createdfor,commons\n",
      "s in 137,becameagain,del\n",
      "actions,imprisonedfor,del\n",
      "management of the military,responsiblefor,del\n",
      "value of a single representative voice,recognizedfor,del\n",
      "del,new rel 1,new 1\n",
      "del,release,after the death of ed\n",
      "new rel 1,rel new 1,new 1\n",
      "orig 2,rel orig 2,orig rel 2\n",
      "new rel 2,rel new 2,new 2\n",
      "orig rel 3,rel orig 3,orig 3\n",
      "new rel 3,rel new 3,new 3\n",
      "orig rel 4,rel orig 4,orig 4\n",
      "new rel 4,rel new 4,new 4\n",
      "orig 5,rel orig 5,orig rel 5\n",
      "new 5,rel new 5,new rel 5\n",
      "orig rel 6,rel orig 6,orig 6\n",
      "new rel 6,rel new 6,new 6\n",
      "['[']\n",
      "['][']\n",
      "['[']\n",
      "['    {\"par\": \"affectedby\"', ' \"before 1430\"}']\n",
      "brit,memberof,knight of the shire\n",
      "brit,memberof,county constituency\n",
      "mp,memberof,knight of the shire\n",
      "mil,latin for,knight of the shire\n",
      "kn,represents,county\n",
      "kn,ended,redis\n",
      "kn,has prestige over,essesjson\n",
      "kn,has prestige over,esses\n",
      "kn,memberof,med\n",
      "shire,memberof,county\n",
      "kn,memberof,med\n",
      "burg,memberof,borough\n",
      "borough constituency,corresponding title,cit\n",
      "cit,memberof,borough\n",
      "bar,memberof,cin\n",
      "cinque ports constituency,represents,cin\n",
      "cin,memberof,bar\n",
      "county constituency,memberof,brit\n",
      "kn,historical-context,med\n",
      "brit,memberof,kn\n",
      "redis,ended,kn\n",
      "borough constituency,corresponding title,cit\n",
      "cinque ports constituency,represents,cin\n",
      "kn,memberof,mp\n",
      "brit,historical-context,med\n",
      "redis,ended,kn\n",
      "before,dateof,act\n",
      "before,startedin,1430\n",
      "act,explainschangesto,county\n",
      "act,declaredelectionscrowdedby,many\n",
      "residence qualification,suggested,char\n",
      "residence qualification,usedfor,parliamentary qualification\n",
      "kn,usedby,elect\n",
      "par,involvedin,elections\n",
      "county franchise,legislated,par\n",
      "county franchise,affectedby,act\n",
      "county franchise,affectedby,act of 1430\n",
      "county franchise,suggestedby,char\n",
      "act of 1430,affectedby,free inhabitant householders\n",
      "act of 1430,affectedby,before\n",
      "par,affectedby,before 1430\n",
      "par,affectedby,before 1430\n",
      "par,elects,kn\n",
      "county franchise,involves,residence qualification\n",
      "free inhabitant householders,votedin,elections\n",
      "./animals/graph.html\n",
      "./animals/clustered_graph.html\n"
     ]
    }
   ],
   "source": [
    "import networkx as nx\n",
    "chunks, g =GraphCreation.create_KG_from_url(\"https://en.wikipedia.org/wiki/Knight_of_the_shire\", chunks_precentage_linked=0, eliminate_all_islands=False, num=20,llm_formatting=False, inital_repeats=30, ner=False, ner_type=\"llm\",output_file=\"./animals\")"
   ]
  },
  {
   "cell_type": "code",
   "execution_count": 7,
   "metadata": {},
   "outputs": [
    {
     "data": {
      "text/plain": [
       "'The Knights of the Shire were representatives of the county in the English Parliament during the medieval and early modern periods. The term \"Knights of the Shire\" refers to long-serving conservative backbenchers and is often used in journalese. \\n\\nThe representation of the people act 1832 increased the number of knights in some counties, such as Yorkshire, to four. The method of choosing knights varied by county, and the role of knights became outdated over time. The term \"knights\" eventually died out during the 20th century due to the destruction of counties and the rapid decline in their significance.\\n\\nA knight was typically affiliated with a shire, which is a region or territory that is also known as a county. The concept of a knight of the shire is explained in articles that list information about them, such as their history and role in Parliament.'"
      ]
     },
     "execution_count": 7,
     "metadata": {},
     "output_type": "execute_result"
    }
   ],
   "source": [
    "from src import LLMFunctions as llm\n",
    "llm.graphquestions(g, \"tell me about the knights of the shire\")"
   ]
  },
  {
   "cell_type": "code",
   "execution_count": 7,
   "metadata": {},
   "outputs": [
    {
     "name": "stdout",
     "output_type": "stream",
     "text": [
      "Number of chunks: 6\n",
      "./rights/graph.html\n",
      "./rights/clustered_graph.html\n"
     ]
    }
   ],
   "source": [
    "import networkx as nx\n",
    "chunks, g =GraphCreation.create_KG_from_pdf(\"/Users/chrisoosthuizen/projects/GraphCreator/NathanLeeResumeWinter2023 - Google Docs (1).pdf\", chunks_precentage_linked=0, eliminate_all_islands=False, num=20, inital_repeats=10, ner=True, ner_type=\"llm\",output_file=\"./rights\")"
   ]
  },
  {
   "cell_type": "code",
   "execution_count": 4,
   "metadata": {},
   "outputs": [],
   "source": [
    "import networkx as nx\n",
    "g = nx.read_graphml(\"./animals/graph.graphml\")"
   ]
  },
  {
   "cell_type": "code",
   "execution_count": 8,
   "metadata": {},
   "outputs": [
    {
     "data": {
      "text/plain": [
       "'The \"knights of the shire,\" also known as \"knights of the shire and county,\" were a key part of England\\'s parliamentary system in the medieval and early modern periods. These knights were representatives elected by the landowning, or \"freeholder,\" population of each shire (county) to serve in the Parliament of England, particularly in the House of Commons. Here are some key points about them:\\n\\n1. **Historical Background**: The tradition of electing knights to represent shires dates back to the 13th century during the reign of King Edward I. Specifically, it is often associated with the Model Parliament of 1295, which called for representatives from each shire and borough.\\n\\n2. **Role in Parliament**: The primary function of the knights of the shire was to represent the interests of their shires in the House of Commons. They played a crucial role in discussing and consenting to taxes and legislation that affected the realm.\\n\\n3. **Eligibility and Election**: Originally, to be eligible for election as a knight of the shire, a candidate needed to be a substantial landowner, typically a knight by social status, though not necessarily knighted. In early years, all freeholders who held land worth at least 40 shillings annually (a significant amount at the time) could vote in these elections. \\n\\n4. **Representation**: Each shire typically sent two knights to Parliament, although this number could vary. Some larger or more significant counties had more representation.\\n\\n5. **Impact on Governance**: The inclusion of knights of the shire in Parliament marked a significant development in English governance, reflecting broader representation beyond the nobility and clergy. Their participation underscored the increasing importance of commoners (albeit still a wealthy and influential subset) in the legislative process.\\n\\n6. **Evolution Over Time**: Over the centuries, the role and influence of the knights of the shire evolved, especially as parliamentary democracy further developed. By the time of the reforms in the 19th century, like the Reform Act 1832, the nature of representation and electoral systems had become more complex and inclusive, changing the landscape of parliamentary representation.\\n\\nThe knights of the shire played a foundational role in the development of a more representative and structured parliamentary system in England, contributing to the gradual evolution of more democratic forms of governance.'"
      ]
     },
     "execution_count": 8,
     "metadata": {},
     "output_type": "execute_result"
    }
   ],
   "source": [
    "llm.generate_chat_response(\"\",\"Tell me about the knights of the shire\")"
   ]
  },
  {
   "cell_type": "code",
   "execution_count": null,
   "metadata": {},
   "outputs": [],
   "source": []
  }
 ],
 "metadata": {
  "kernelspec": {
   "display_name": "Python 3",
   "language": "python",
   "name": "python3"
  },
  "language_info": {
   "codemirror_mode": {
    "name": "ipython",
    "version": 3
   },
   "file_extension": ".py",
   "mimetype": "text/x-python",
   "name": "python",
   "nbconvert_exporter": "python",
   "pygments_lexer": "ipython3",
   "version": "3.12.0"
  }
 },
 "nbformat": 4,
 "nbformat_minor": 2
}
