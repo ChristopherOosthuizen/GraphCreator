{
 "cells": [
  {
   "cell_type": "code",
   "execution_count": 1,
   "metadata": {},
   "outputs": [
    {
     "name": "stdout",
     "output_type": "stream",
     "text": [
      "Note: to be able to use all crisp methods, you need to install some additional packages:  {'bayanpy', 'graph_tool', 'wurlitzer', 'infomap'}\n",
      "Note: to be able to use all crisp methods, you need to install some additional packages:  {'pyclustering', 'ASLPAw'}\n",
      "Note: to be able to use all crisp methods, you need to install some additional packages:  {'wurlitzer', 'infomap'}\n"
     ]
    }
   ],
   "source": [
    "from src import GraphCreation"
   ]
  },
  {
   "cell_type": "code",
   "execution_count": 2,
   "metadata": {},
   "outputs": [],
   "source": [
    "import os\n",
    "os.environ['OPENAI_API_KEY']= "
   ]
  },
  {
   "cell_type": "code",
   "execution_count": 3,
   "metadata": {},
   "outputs": [],
   "source": [
    "os.environ['TOKENIZERS_PARALLELISM'] = \"true\""
   ]
  },
  {
   "cell_type": "code",
   "execution_count": 4,
   "metadata": {},
   "outputs": [
    {
     "name": "stderr",
     "output_type": "stream",
     "text": [
      "Token indices sequence length is longer than the specified maximum sequence length for this model (515 > 512). Running this sequence through the model will result in indexing errors\n"
     ]
    }
   ],
   "source": [
    "import networkx as nx\n",
    "chunks, g =GraphCreation.create_KG_from_pdf(\"/Users/christopheroosthuizen/project/GraphCreator/aci 562-19.pdf\")"
   ]
  },
  {
   "cell_type": "code",
   "execution_count": null,
   "metadata": {},
   "outputs": [
    {
     "data": {
      "text/html": [
       "<div>\n",
       "<style scoped>\n",
       "    .dataframe tbody tr th:only-of-type {\n",
       "        vertical-align: middle;\n",
       "    }\n",
       "\n",
       "    .dataframe tbody tr th {\n",
       "        vertical-align: top;\n",
       "    }\n",
       "\n",
       "    .dataframe thead th {\n",
       "        text-align: right;\n",
       "    }\n",
       "</style>\n",
       "<table border=\"1\" class=\"dataframe\">\n",
       "  <thead>\n",
       "    <tr style=\"text-align: right;\">\n",
       "      <th></th>\n",
       "      <th>Unnamed: 0</th>\n",
       "      <th>Judges_over_base</th>\n",
       "      <th>Follows_over_rag</th>\n",
       "      <th>Follows_over_base</th>\n",
       "      <th>Judges_over_rag</th>\n",
       "      <th>Controdicts_over_base</th>\n",
       "      <th>Controdicts_over_rag</th>\n",
       "      <th>base_line</th>\n",
       "      <th>graph</th>\n",
       "      <th>rag</th>\n",
       "      <th>source</th>\n",
       "      <th>answer</th>\n",
       "      <th>question</th>\n",
       "    </tr>\n",
       "  </thead>\n",
       "  <tbody>\n",
       "    <tr>\n",
       "      <th>0</th>\n",
       "      <td>0</td>\n",
       "      <td>0</td>\n",
       "      <td>0.867277</td>\n",
       "      <td>0.986238</td>\n",
       "      <td>0</td>\n",
       "      <td>0.986238</td>\n",
       "      <td>0.867277</td>\n",
       "      <td>as of my last update in october 2023, the most...</td>\n",
       "      <td>To determine the birth date of the most recent...</td>\n",
       "      <td>The most recent winner of the Tour de France w...</td>\n",
       "      <td>https://en.wikipedia.org/wiki/List_of_Tour_de_...</td>\n",
       "      <td>1996</td>\n",
       "      <td>When was the most recent winner of the Tour de...</td>\n",
       "    </tr>\n",
       "    <tr>\n",
       "      <th>1</th>\n",
       "      <td>1</td>\n",
       "      <td>0</td>\n",
       "      <td>0.076420</td>\n",
       "      <td>0.362118</td>\n",
       "      <td>0</td>\n",
       "      <td>0.362118</td>\n",
       "      <td>0.076420</td>\n",
       "      <td>as of my last update in october 2023, the 2024...</td>\n",
       "      <td>The upcoming International Mathematical Olympi...</td>\n",
       "      <td>The upcoming International Mathematical Olympi...</td>\n",
       "      <td>https://en.wikipedia.org/wiki/International_Ma...</td>\n",
       "      <td>Bath</td>\n",
       "      <td>Where will the upcoming International Mathemat...</td>\n",
       "    </tr>\n",
       "    <tr>\n",
       "      <th>2</th>\n",
       "      <td>2</td>\n",
       "      <td>0</td>\n",
       "      <td>0.672957</td>\n",
       "      <td>0.012050</td>\n",
       "      <td>0</td>\n",
       "      <td>0.012050</td>\n",
       "      <td>0.672957</td>\n",
       "      <td>in the united states, there are nine major foo...</td>\n",
       "      <td>In the United States, there are eight major fo...</td>\n",
       "      <td>Nine food allergens with mandatory labeling ar...</td>\n",
       "      <td>https://en.wikipedia.org/wiki/Food_allergy#Reg...</td>\n",
       "      <td>9</td>\n",
       "      <td>How many food allergens with mandatory labelin...</td>\n",
       "    </tr>\n",
       "    <tr>\n",
       "      <th>3</th>\n",
       "      <td>3</td>\n",
       "      <td>0</td>\n",
       "      <td>0.000000</td>\n",
       "      <td>0.027998</td>\n",
       "      <td>0</td>\n",
       "      <td>0.027998</td>\n",
       "      <td>-0.000000</td>\n",
       "      <td>the largest passenger airplane in the world is...</td>\n",
       "      <td>The largest passenger airplane is the Airbus A...</td>\n",
       "      <td>The largest passenger airplane is the Airbus A...</td>\n",
       "      <td>https://en.wikipedia.org/wiki/Airbus_A380#:~:t...</td>\n",
       "      <td>Airbus A380</td>\n",
       "      <td>What is the largest passenger airplane?</td>\n",
       "    </tr>\n",
       "    <tr>\n",
       "      <th>4</th>\n",
       "      <td>4</td>\n",
       "      <td>0</td>\n",
       "      <td>0.955060</td>\n",
       "      <td>0.044069</td>\n",
       "      <td>0</td>\n",
       "      <td>0.044069</td>\n",
       "      <td>0.955061</td>\n",
       "      <td>the real name of the author george eliot was m...</td>\n",
       "      <td>The real name of the author George Eliot was M...</td>\n",
       "      <td>Mary Ann Evans.</td>\n",
       "      <td>https://en.wikipedia.org/wiki/George_Eliot#:~:...</td>\n",
       "      <td>Mary Ann Evans</td>\n",
       "      <td>What was the real name of the author George El...</td>\n",
       "    </tr>\n",
       "  </tbody>\n",
       "</table>\n",
       "</div>"
      ],
      "text/plain": [
       "   Unnamed: 0  Judges_over_base  Follows_over_rag  Follows_over_base  \\\n",
       "0           0                 0          0.867277           0.986238   \n",
       "1           1                 0          0.076420           0.362118   \n",
       "2           2                 0          0.672957           0.012050   \n",
       "3           3                 0          0.000000           0.027998   \n",
       "4           4                 0          0.955060           0.044069   \n",
       "\n",
       "   Judges_over_rag  Controdicts_over_base  Controdicts_over_rag  \\\n",
       "0                0               0.986238              0.867277   \n",
       "1                0               0.362118              0.076420   \n",
       "2                0               0.012050              0.672957   \n",
       "3                0               0.027998             -0.000000   \n",
       "4                0               0.044069              0.955061   \n",
       "\n",
       "                                           base_line  \\\n",
       "0  as of my last update in october 2023, the most...   \n",
       "1  as of my last update in october 2023, the 2024...   \n",
       "2  in the united states, there are nine major foo...   \n",
       "3  the largest passenger airplane in the world is...   \n",
       "4  the real name of the author george eliot was m...   \n",
       "\n",
       "                                               graph  \\\n",
       "0  To determine the birth date of the most recent...   \n",
       "1  The upcoming International Mathematical Olympi...   \n",
       "2  In the United States, there are eight major fo...   \n",
       "3  The largest passenger airplane is the Airbus A...   \n",
       "4  The real name of the author George Eliot was M...   \n",
       "\n",
       "                                                 rag  \\\n",
       "0  The most recent winner of the Tour de France w...   \n",
       "1  The upcoming International Mathematical Olympi...   \n",
       "2  Nine food allergens with mandatory labeling ar...   \n",
       "3  The largest passenger airplane is the Airbus A...   \n",
       "4                                    Mary Ann Evans.   \n",
       "\n",
       "                                              source          answer  \\\n",
       "0  https://en.wikipedia.org/wiki/List_of_Tour_de_...            1996   \n",
       "1  https://en.wikipedia.org/wiki/International_Ma...            Bath   \n",
       "2  https://en.wikipedia.org/wiki/Food_allergy#Reg...               9   \n",
       "3  https://en.wikipedia.org/wiki/Airbus_A380#:~:t...     Airbus A380   \n",
       "4  https://en.wikipedia.org/wiki/George_Eliot#:~:...  Mary Ann Evans   \n",
       "\n",
       "                                            question  \n",
       "0  When was the most recent winner of the Tour de...  \n",
       "1  Where will the upcoming International Mathemat...  \n",
       "2  How many food allergens with mandatory labelin...  \n",
       "3            What is the largest passenger airplane?  \n",
       "4  What was the real name of the author George El...  "
      ]
     },
     "execution_count": 10,
     "metadata": {},
     "output_type": "execute_result"
    }
   ],
   "source": [
    "data = pd.read_csv(\"/Users/christopheroosthuizen/project/GraphCreator/output/results.csv\")\n",
    "data.head()"
   ]
  }
 ],
 "metadata": {
  "kernelspec": {
   "display_name": "Python 3",
   "language": "python",
   "name": "python3"
  },
  "language_info": {
   "codemirror_mode": {
    "name": "ipython",
    "version": 3
   },
   "file_extension": ".py",
   "mimetype": "text/x-python",
   "name": "python",
   "nbconvert_exporter": "python",
   "pygments_lexer": "ipython3",
   "version": "3.12.4"
  }
 },
 "nbformat": 4,
 "nbformat_minor": 2
}
