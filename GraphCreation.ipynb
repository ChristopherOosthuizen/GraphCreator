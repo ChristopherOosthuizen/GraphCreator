{
 "cells": [
  {
   "cell_type": "code",
   "execution_count": 1,
   "metadata": {},
   "outputs": [
    {
     "name": "stdout",
     "output_type": "stream",
     "text": [
      "Note: to be able to use all crisp methods, you need to install some additional packages:  {'infomap', 'wurlitzer', 'bayanpy', 'graph_tool'}\n",
      "Note: to be able to use all crisp methods, you need to install some additional packages:  {'pyclustering', 'ASLPAw'}\n",
      "Note: to be able to use all crisp methods, you need to install some additional packages:  {'infomap', 'wurlitzer'}\n"
     ]
    }
   ],
   "source": [
    "from src import GraphCreation"
   ]
  },
  {
   "cell_type": "code",
   "execution_count": 2,
   "metadata": {},
   "outputs": [],
   "source": [
    "import os\n",
    "os.environ['OPENAI_API_KEY']= \"\""
   ]
  },
  {
   "cell_type": "code",
   "execution_count": 3,
   "metadata": {},
   "outputs": [
    {
     "name": "stdout",
     "output_type": "stream",
     "text": [
      "Number of chunks: 16\n",
      "kn,representative of,con\n",
      "kn,relevant in,eng\n",
      "kn,relevant in,w\n",
      "['']\n",
      "county franchise,legislated,par\n",
      "the,declared,elections crowded by persons of low estate\n",
      "persons qualified by freehold of 40s,limited to,suffrage\n",
      "par,linked to,the\n",
      "elections crowded by persons of low estate,resulted in,persons qualified by freehold of 40s\n",
      "the,legislated,uniform county franchise\n",
      "uniform county franchise,included in,orso\n",
      "orso,amended,143\n",
      "resident,must have,fort\n",
      "resident,must have,property\n",
      "fort,voter in,county\n",
      "uniform county franchise,must have,resident\n",
      "c1a,rel1,c1b\n",
      "c1b,rel2,c1c\n",
      "c2a,rel3,c2b\n",
      "c2c,rel4,c2d\n",
      "page_content,derived from,w:wikipedia\n",
      "members the term,describes,the term  \n",
      "the term,describes,con  \n",
      "knighthood,has,con  \n",
      "backbenchers,includes,members  \n",
      "backbenchers,has,long service  \n",
      "members the term,related to,knighthood  \n",
      "members,linked by,members the term  \n",
      "the term,describes,members  \n",
      "the term,related to,backbenchers\n",
      "o,contextual frame,authorities\n",
      "o,contextual frame,property\n",
      "representation,disappeared,residence requirement\n",
      "representation,continues sending,county\n",
      "county,varied election process,knights\n",
      "knights,increased,183\n",
      "182,increased knights,y\n",
      "o,contextual frame,representation\n",
      "o,contextual frame,county\n",
      "o,contextual frame,knights\n",
      "o,contextual frame,183\n",
      "redis,caused,destruction of counties\n",
      "redis,affected,electorate structure\n",
      "electorate structure,widened,re\n",
      "electorate structure,widened,third\n",
      "electorate structure,affected,representation\n",
      "end of term,marked,20\n",
      "members,represent,county constituencies\n",
      "destruction of counties,resulted in,end of term\n",
      "end of term,affected,members\n",
      "city,includes,const\n",
      "bar,includes,const\n",
      "const,includes,borough\n",
      "kn,have more prestige than,burg\n",
      "burg,stand for election in,shire\n",
      "shire,increases standing in,par\n",
      "par,aim to increase standing in,sitting burg\n",
      "const,related to,kn\n",
      "th,includes,'kn'\n",
      "th,defined by,'writ of election'\n",
      "kn,implies,ight\n",
      "kn,existed in,14\n",
      "kn,elected as,men\n",
      "kn,sufficient for,estates\n",
      "ight,referred to,'writ of election'\n",
      "ight,lasted until,19\n",
      "men,were,not knights\n",
      "eligible voters,include,ights\n",
      "eligible voters,include,notable esquires\n",
      "eligible voters,exclude,ye\n",
      "notable esquires,have,estates\n",
      "hen,enacted,23\n",
      "23,defines eligibility for,election\n",
      "kn,related to,eligible voters\n",
      "kn,related to,hen\n",
      "peak in 1377,appointed as,del\n",
      "single representative voice for the commons,valued as,del\n",
      "del,imprisoned for,actions\n",
      "del,released after,death of ed\n",
      "del,became,peakdel\n",
      "commons,created for,office of speaker of the house of commons\n",
      "military,manages,king\n",
      "peak,role in,house\n",
      "1377,established in,s\n",
      "s,recognized for,value of single representative voice\n",
      "\n",
      "office of speaker of the house of commons,is part of,house\n",
      "peakdel,role in,office of speaker of the house of commons\n",
      "s,leads,office of speaker of the house of commons\n",
      "sim,established,par\n",
      "sim,standardized,number\n",
      "par,in,126\n",
      "shire,sent by,knights\n",
      "shire,split,redis\n",
      "shire,contains,divisions\n",
      "knights,gained,y\n",
      "knights,sent,county\n",
      "county,contains,constituencies\n",
      "county,election in,borough constituencies\n",
      "redis,standardised,franchise\n",
      "franchise,standardised,borough constituencies\n",
      "franchise,standardised,county constituencies\n",
      "gr,happened to,disfranchisement\n",
      "representation,implemented in,act\n",
      "constituencies,contains,borough\n",
      "sim,inspired,knights\n",
      "par,includes,shire\n",
      "franchise,affected,constituencies\n",
      "multiple,involves,single−seat divisions\n",
      "change,includes,standardisation\n",
      "standardisation,affects,franchise\n",
      "county,compared to,borough\n",
      "county∧borough,differ in,election expenses\n",
      "county∧borough,differ in,type of returning officerchange,connected to,multiple\n",
      "change,affects,election expenses\n",
      "change,involves,type of returning officer\n",
      "constituencies,related to,county\n",
      "constituencies,related to,borough\n",
      "county,differ in,standardisation\n",
      "returning officer,concerned with,county\n",
      "returning officer,concerned with,boroughmultiple,involves,single−seat\n",
      "standardisation,affects,franchise\n",
      "change,affects,election expenses\n",
      "change,involves,type of returning officer\n",
      "change,includes,standardisation\n",
      "change,connected to,multiple\n",
      "constituencies,related to,borough\n",
      "constituencies,related to,county\n",
      "county,compared to,borough\n",
      "county,differ in,standardisation\n",
      "county∧borough,differ in,election expenses\n",
      "county∧borough,differ in,type of returning officer\n",
      "returning officer,concerned with,borough\n",
      "returning officer,concerned with,county\n",
      "english,precursor to,parliamentary system\n",
      "mag,evolved to,mont\n",
      "mag,included,representatives from bour\n",
      "parliament,acquired,legislative powers\n",
      "parliament,split,ed\n",
      "ed,split,parliament\n",
      "current parliamentary structure,includes,house of\n",
      "two knights from each county,summoned,king\n",
      "peers,consists of,king\n",
      "ecclesiastics,consists of,king\n",
      "knights of the shire,consists of,king\n",
      "king,summoned,two knights from each county\n",
      "king,consists of,peers\n",
      "mag,precursor to,parliamentary system\n",
      "english,evolved to,mont\n",
      "parliament,consists of,representatives from bour\n",
      "mag,summoned,two knights from each county\n",
      "english,formed from,mag\n",
      "current parliamentary structure,includes,parliament\n",
      "kn,role of,mp\n",
      "kn,represents,county constituency\n",
      "kn,originated in,par\n",
      "kn,latin term for,mil\n",
      "mp,member of,brit\n",
      "mp,represents,constituency\n",
      "mp,member of,par\n",
      "mp,corresponding title for,cit\n",
      "mp,corresponding title for,burg\n",
      "mp,corresponding title for,bar\n",
      "burg,role in,borough constituency\n",
      "burg,had more prestige than,ight\n",
      "cit,role in,borough with city status\n",
      "bar,role in,cin\n",
      "bar,corresponding title for,mp\n",
      "ight,had more prestige than,burg\n",
      "redis,ended,practice of each county forming a single constituency\n",
      "other mps,corresponding titles,corresponding\n",
      "mp,corresponding titles,other mps\n",
      "143,before,act\n",
      "143,influenced,elections\n",
      "fr,involves,elections\n",
      "elections,includes,kn  \n",
      "elections,involved,free inhabitant householders\n",
      "kn,was not restricted to,fort  \n",
      "kn,involves,householders  \n",
      "histor,discusses,county  \n",
      "histor,discusses,county franchise  \n",
      "county,suggested,char\n",
      "county,legislates about,act\n",
      "county,voted in,householders\n",
      "char,suggested,par\n",
      "par,qualified for,fort\n",
      "act,legislates about,county\n",
      "act,declares,elections crowded\n",
      "householders,voted in,county\n",
      "county,requires,residence qualification\n",
      "residence qualification,influenced by,par\n",
      "county franchise,requires,residence qualification\n",
      "residence qualification,compelled,court attendance\n",
      "legislation reason,explains,histor\n",
      "['']\n",
      "['']\n",
      "parliament,gained legislative powers in,1295\n",
      "parliament,split,edward iii\n",
      "parliament,has structure,house of commons\n",
      "parliament,has structure,house of lords\n",
      "parliament,opted to appoint,sir peter de la mare\n",
      "parliament,appointed to convey to,the lords\n",
      "parliament,appointed to convey,complaints about heavy taxes\n",
      "parliament,appointed to demand,accounting of royal expenditures\n",
      "parliament,appointed to criticize,king's management\n",
      "parliament,appointed in,1376\n",
      "parliament,recognized by many,de la mare\n",
      "the model parliament,has structure,house of lords\n",
      "the model parliament,has structure,house of commons\n",
      "edward iii,split into,1341\n",
      "house of commons,is part of,parliament\n",
      "house of lords,is part of,parliament\n",
      "sir peter de la mare,conveyed to,the lords\n",
      "sir peter de la mare,appointed by,parliament\n",
      "sir peter de la mare,imprisoned for,actions\n",
      "the lords,criticized by,commons\n",
      "commons,conveyed to,house of lords\n",
      "commons,criticized,king's management\n",
      "commons,has representative,sir peter de la mare\n",
      "commons,criticized by,royal expenditures\n",
      "king's management,criticized by,commons\n",
      "accounting of royal expenditures,criticized by,commons\n",
      "['{']\n",
      "./animals/graph.html\n",
      "./animals/clustered_graph.html\n"
     ]
    }
   ],
   "source": [
    "import networkx as nx\n",
    "chunks, g =GraphCreation.create_KG_from_url(\"https://en.wikipedia.org/wiki/Knight_of_the_shire\", chunks_precentage_linked=0, eliminate_all_islands=False, num=20,llm_formatting=False, inital_repeats=30, ner=False, ner_type=\"llm\",output_file=\"./animals\")"
   ]
  },
  {
   "cell_type": "code",
   "execution_count": 7,
   "metadata": {},
   "outputs": [
    {
     "data": {
      "text/plain": [
       "'The Knights of the Shire were representatives of the county in the English Parliament during the medieval and early modern periods. The term \"Knights of the Shire\" refers to long-serving conservative backbenchers and is often used in journalese. \\n\\nThe representation of the people act 1832 increased the number of knights in some counties, such as Yorkshire, to four. The method of choosing knights varied by county, and the role of knights became outdated over time. The term \"knights\" eventually died out during the 20th century due to the destruction of counties and the rapid decline in their significance.\\n\\nA knight was typically affiliated with a shire, which is a region or territory that is also known as a county. The concept of a knight of the shire is explained in articles that list information about them, such as their history and role in Parliament.'"
      ]
     },
     "execution_count": 7,
     "metadata": {},
     "output_type": "execute_result"
    }
   ],
   "source": [
    "from src import LLMFunctions as llm\n",
    "llm.graphquestions(g, \"tell me about the knights of the shire\")"
   ]
  },
  {
   "cell_type": "code",
   "execution_count": 7,
   "metadata": {},
   "outputs": [
    {
     "name": "stdout",
     "output_type": "stream",
     "text": [
      "Number of chunks: 6\n",
      "./rights/graph.html\n",
      "./rights/clustered_graph.html\n"
     ]
    }
   ],
   "source": [
    "import networkx as nx\n",
    "chunks, g =GraphCreation.create_KG_from_pdf(\"/Users/chrisoosthuizen/projects/GraphCreator/NathanLeeResumeWinter2023 - Google Docs (1).pdf\", chunks_precentage_linked=0, eliminate_all_islands=False, num=20, inital_repeats=10, ner=True, ner_type=\"llm\",output_file=\"./rights\")"
   ]
  },
  {
   "cell_type": "code",
   "execution_count": 4,
   "metadata": {},
   "outputs": [],
   "source": [
    "import networkx as nx\n",
    "g = nx.read_graphml(\"./animals/graph.graphml\")"
   ]
  },
  {
   "cell_type": "code",
   "execution_count": 8,
   "metadata": {},
   "outputs": [
    {
     "data": {
      "text/plain": [
       "'The \"knights of the shire,\" also known as \"knights of the shire and county,\" were a key part of England\\'s parliamentary system in the medieval and early modern periods. These knights were representatives elected by the landowning, or \"freeholder,\" population of each shire (county) to serve in the Parliament of England, particularly in the House of Commons. Here are some key points about them:\\n\\n1. **Historical Background**: The tradition of electing knights to represent shires dates back to the 13th century during the reign of King Edward I. Specifically, it is often associated with the Model Parliament of 1295, which called for representatives from each shire and borough.\\n\\n2. **Role in Parliament**: The primary function of the knights of the shire was to represent the interests of their shires in the House of Commons. They played a crucial role in discussing and consenting to taxes and legislation that affected the realm.\\n\\n3. **Eligibility and Election**: Originally, to be eligible for election as a knight of the shire, a candidate needed to be a substantial landowner, typically a knight by social status, though not necessarily knighted. In early years, all freeholders who held land worth at least 40 shillings annually (a significant amount at the time) could vote in these elections. \\n\\n4. **Representation**: Each shire typically sent two knights to Parliament, although this number could vary. Some larger or more significant counties had more representation.\\n\\n5. **Impact on Governance**: The inclusion of knights of the shire in Parliament marked a significant development in English governance, reflecting broader representation beyond the nobility and clergy. Their participation underscored the increasing importance of commoners (albeit still a wealthy and influential subset) in the legislative process.\\n\\n6. **Evolution Over Time**: Over the centuries, the role and influence of the knights of the shire evolved, especially as parliamentary democracy further developed. By the time of the reforms in the 19th century, like the Reform Act 1832, the nature of representation and electoral systems had become more complex and inclusive, changing the landscape of parliamentary representation.\\n\\nThe knights of the shire played a foundational role in the development of a more representative and structured parliamentary system in England, contributing to the gradual evolution of more democratic forms of governance.'"
      ]
     },
     "execution_count": 8,
     "metadata": {},
     "output_type": "execute_result"
    }
   ],
   "source": [
    "llm.generate_chat_response(\"\",\"Tell me about the knights of the shire\")"
   ]
  },
  {
   "cell_type": "code",
   "execution_count": null,
   "metadata": {},
   "outputs": [],
   "source": []
  }
 ],
 "metadata": {
  "kernelspec": {
   "display_name": "Python 3",
   "language": "python",
   "name": "python3"
  },
  "language_info": {
   "codemirror_mode": {
    "name": "ipython",
    "version": 3
   },
   "file_extension": ".py",
   "mimetype": "text/x-python",
   "name": "python",
   "nbconvert_exporter": "python",
   "pygments_lexer": "ipython3",
   "version": "3.12.0"
  }
 },
 "nbformat": 4,
 "nbformat_minor": 2
}
