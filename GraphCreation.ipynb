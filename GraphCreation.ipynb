{
 "cells": [
  {
   "cell_type": "code",
   "execution_count": 1,
   "metadata": {},
   "outputs": [
    {
     "name": "stderr",
     "output_type": "stream",
     "text": [
      "/Library/Frameworks/Python.framework/Versions/3.12/lib/python3.12/site-packages/pydantic/_internal/_fields.py:151: UserWarning: Field \"model_id\" has conflict with protected namespace \"model_\".\n",
      "\n",
      "You may be able to resolve this warning by setting `model_config['protected_namespaces'] = ()`.\n",
      "  warnings.warn(\n"
     ]
    },
    {
     "name": "stdout",
     "output_type": "stream",
     "text": [
      "Note: to be able to use all crisp methods, you need to install some additional packages:  {'wurlitzer', 'infomap', 'bayanpy', 'graph_tool'}\n",
      "Note: to be able to use all crisp methods, you need to install some additional packages:  {'ASLPAw', 'pyclustering'}\n",
      "Note: to be able to use all crisp methods, you need to install some additional packages:  {'wurlitzer', 'infomap'}\n",
      "2024-05-30 11:08:17,305 SequenceTagger predicts: Dictionary with 76 tags: <unk>, O, B-CARDINAL, E-CARDINAL, S-PERSON, S-CARDINAL, S-PRODUCT, B-PRODUCT, I-PRODUCT, E-PRODUCT, B-WORK_OF_ART, I-WORK_OF_ART, E-WORK_OF_ART, B-PERSON, E-PERSON, S-GPE, B-DATE, I-DATE, E-DATE, S-ORDINAL, S-LANGUAGE, I-PERSON, S-EVENT, S-DATE, B-QUANTITY, E-QUANTITY, S-TIME, B-TIME, I-TIME, E-TIME, B-GPE, E-GPE, S-ORG, I-GPE, S-NORP, B-FAC, I-FAC, E-FAC, B-NORP, E-NORP, S-PERCENT, B-ORG, E-ORG, B-LANGUAGE, E-LANGUAGE, I-CARDINAL, I-ORG, S-WORK_OF_ART, I-QUANTITY, B-MONEY\n"
     ]
    }
   ],
   "source": [
    "import src.GraphCreation.GraphCreation as gr\n",
    "import os"
   ]
  },
  {
   "cell_type": "code",
   "execution_count": 1,
   "metadata": {},
   "outputs": [],
   "source": [
    "import os\n",
    "os.environ['OPENAI_API_KEY']= \"\""
   ]
  },
  {
   "cell_type": "code",
   "execution_count": 3,
   "metadata": {},
   "outputs": [
    {
     "name": "stdout",
     "output_type": "stream",
     "text": [
      "Number of chunks: 3\n",
      "./graph.html\n"
     ]
    }
   ],
   "source": [
    "chunks, g = gr.create_KG_from_url(\"https://en.wikipedia.org/wiki/Knight_of_the_shire\",output_file=\"./\",ner=True)"
   ]
  },
  {
   "cell_type": "code",
   "execution_count": 3,
   "metadata": {},
   "outputs": [
    {
     "name": "stdout",
     "output_type": "stream",
     "text": [
      "Number of chunks: 3\n",
      "./graph.html\n",
      "['What was the formal title for a member of parliament representing a county constituency in the medieval Parliament of England?', 'What are the historical developments and legislative impacts on the evolution of the English parliamentary system and the role of knights of the shire?', 'What are some sources that provide detailed information on the 1832 Reform Act?']\n",
      "Number of chunks: 3\n",
      "./graph.html\n"
     ]
    },
    {
     "name": "stderr",
     "output_type": "stream",
     "text": [
      "huggingface/tokenizers: The current process just got forked, after parallelism has already been used. Disabling parallelism to avoid deadlocks...\n",
      "To disable this warning, you can either:\n",
      "\t- Avoid using `tokenizers` before the fork if possible\n",
      "\t- Explicitly set the environment variable TOKENIZERS_PARALLELISM=(true | false)\n"
     ]
    },
    {
     "name": "stdout",
     "output_type": "stream",
     "text": [
      "['What was the formal title for a member of parliament representing a county constituency in the British House of Commons before 1885?', 'What does the webpage discuss about the historical development and evolution of the English parliamentary system, including the role and eventual obsolescence of the term \"knight of the shire\"?', 'Where can I find the text of the 1832 Reform Act?']\n",
      "Number of chunks: 3\n",
      "./graph.html\n"
     ]
    },
    {
     "name": "stderr",
     "output_type": "stream",
     "text": [
      "huggingface/tokenizers: The current process just got forked, after parallelism has already been used. Disabling parallelism to avoid deadlocks...\n",
      "To disable this warning, you can either:\n",
      "\t- Avoid using `tokenizers` before the fork if possible\n",
      "\t- Explicitly set the environment variable TOKENIZERS_PARALLELISM=(true | false)\n"
     ]
    },
    {
     "name": "stdout",
     "output_type": "stream",
     "text": [
      "['What was the formal title used for a member of parliament representing a county constituency in the British House of Commons before the 1885 Redistribution of Seats Act?', 'How did the role and relevance of knights of the shire evolve from the Middle Ages to modern times in the English parliamentary system?', 'Where can one find the text of the 1832 Reform Act?']\n",
      "Number of chunks: 3\n",
      "./graph.html\n"
     ]
    },
    {
     "name": "stderr",
     "output_type": "stream",
     "text": [
      "huggingface/tokenizers: The current process just got forked, after parallelism has already been used. Disabling parallelism to avoid deadlocks...\n",
      "To disable this warning, you can either:\n",
      "\t- Avoid using `tokenizers` before the fork if possible\n",
      "\t- Explicitly set the environment variable TOKENIZERS_PARALLELISM=(true | false)\n"
     ]
    },
    {
     "name": "stdout",
     "output_type": "stream",
     "text": [
      "['What was the formal title for a member of parliament representing a county constituency in the medieval Parliament of England?', 'What is the historical significance of the \"knight of the shire\" in the evolution of the English parliamentary system?', 'What are the sources listed for the study of the 1832 Reform Act and related electoral reforms in England and Wales?']\n"
     ]
    }
   ],
   "source": [
    "import pandas as pd\n",
    "import src.GraphCreation.BenchMarks as bm\n",
    "\n",
    "data = pd.DataFrame()\n",
    "chunks, g = gr.create_KG_from_url(\"https://en.wikipedia.org/wiki/Knight_of_the_shire\", inital_repeats=0,output_file=\"./\")\n",
    "data = data._append(bm.benchmark(g,chunks), ignore_index=True)\n",
    "for x in range(3,10,3):\n",
    "    chunks, g = gr.create_KG_from_chunks(chunks, output_file=\"./\", inital_repeats=x)\n",
    "    data = data._append(bm.benchmark(g,chunks), ignore_index=True)"
   ]
  },
  {
   "cell_type": "code",
   "execution_count": 4,
   "metadata": {},
   "outputs": [
    {
     "data": {
      "text/html": [
       "<div>\n",
       "<style scoped>\n",
       "    .dataframe tbody tr th:only-of-type {\n",
       "        vertical-align: middle;\n",
       "    }\n",
       "\n",
       "    .dataframe tbody tr th {\n",
       "        vertical-align: top;\n",
       "    }\n",
       "\n",
       "    .dataframe thead th {\n",
       "        text-align: right;\n",
       "    }\n",
       "</style>\n",
       "<table border=\"1\" class=\"dataframe\">\n",
       "  <thead>\n",
       "    <tr style=\"text-align: right;\">\n",
       "      <th></th>\n",
       "      <th>average_judges</th>\n",
       "      <th>average_follows</th>\n",
       "      <th>average_contradicts</th>\n",
       "      <th>number_of_unconneced_graphs</th>\n",
       "      <th>number_of_triangles</th>\n",
       "      <th>number_of_nodes</th>\n",
       "      <th>number_of_edges</th>\n",
       "      <th>average_clustering</th>\n",
       "      <th>average_shortest_path</th>\n",
       "    </tr>\n",
       "  </thead>\n",
       "  <tbody>\n",
       "    <tr>\n",
       "      <th>0</th>\n",
       "      <td>1.0</td>\n",
       "      <td>0.306631</td>\n",
       "      <td>0.306631</td>\n",
       "      <td>1.0</td>\n",
       "      <td>7.0</td>\n",
       "      <td>32.0</td>\n",
       "      <td>42.0</td>\n",
       "      <td>0.220353</td>\n",
       "      <td>3.125000</td>\n",
       "    </tr>\n",
       "    <tr>\n",
       "      <th>1</th>\n",
       "      <td>1.0</td>\n",
       "      <td>0.057808</td>\n",
       "      <td>0.057808</td>\n",
       "      <td>1.0</td>\n",
       "      <td>8.0</td>\n",
       "      <td>34.0</td>\n",
       "      <td>45.0</td>\n",
       "      <td>0.159641</td>\n",
       "      <td>4.739750</td>\n",
       "    </tr>\n",
       "    <tr>\n",
       "      <th>2</th>\n",
       "      <td>1.0</td>\n",
       "      <td>-0.031299</td>\n",
       "      <td>-0.031299</td>\n",
       "      <td>4.0</td>\n",
       "      <td>7.0</td>\n",
       "      <td>40.0</td>\n",
       "      <td>46.0</td>\n",
       "      <td>0.222115</td>\n",
       "      <td>1.704637</td>\n",
       "    </tr>\n",
       "    <tr>\n",
       "      <th>3</th>\n",
       "      <td>1.0</td>\n",
       "      <td>0.221876</td>\n",
       "      <td>0.221876</td>\n",
       "      <td>2.0</td>\n",
       "      <td>7.0</td>\n",
       "      <td>36.0</td>\n",
       "      <td>45.0</td>\n",
       "      <td>0.122578</td>\n",
       "      <td>2.103387</td>\n",
       "    </tr>\n",
       "  </tbody>\n",
       "</table>\n",
       "</div>"
      ],
      "text/plain": [
       "   average_judges  average_follows  average_contradicts  \\\n",
       "0             1.0         0.306631             0.306631   \n",
       "1             1.0         0.057808             0.057808   \n",
       "2             1.0        -0.031299            -0.031299   \n",
       "3             1.0         0.221876             0.221876   \n",
       "\n",
       "   number_of_unconneced_graphs  number_of_triangles  number_of_nodes  \\\n",
       "0                          1.0                  7.0             32.0   \n",
       "1                          1.0                  8.0             34.0   \n",
       "2                          4.0                  7.0             40.0   \n",
       "3                          2.0                  7.0             36.0   \n",
       "\n",
       "   number_of_edges  average_clustering  average_shortest_path  \n",
       "0             42.0            0.220353               3.125000  \n",
       "1             45.0            0.159641               4.739750  \n",
       "2             46.0            0.222115               1.704637  \n",
       "3             45.0            0.122578               2.103387  "
      ]
     },
     "execution_count": 4,
     "metadata": {},
     "output_type": "execute_result"
    }
   ],
   "source": [
    "data.head()"
   ]
  },
  {
   "cell_type": "code",
   "execution_count": 6,
   "metadata": {},
   "outputs": [],
   "source": [
    "data.to_csv(\"benchmark.csv\")"
   ]
  },
  {
   "cell_type": "code",
   "execution_count": 4,
   "metadata": {},
   "outputs": [
    {
     "ename": "NameError",
     "evalue": "name 'gr' is not defined",
     "output_type": "error",
     "traceback": [
      "\u001b[0;31m---------------------------------------------------------------------------\u001b[0m",
      "\u001b[0;31mNameError\u001b[0m                                 Traceback (most recent call last)",
      "Cell \u001b[0;32mIn[4], line 2\u001b[0m\n\u001b[1;32m      1\u001b[0m \u001b[38;5;28;01mimport\u001b[39;00m \u001b[38;5;21;01mnetworkx\u001b[39;00m \u001b[38;5;28;01mas\u001b[39;00m \u001b[38;5;21;01mnx\u001b[39;00m\n\u001b[0;32m----> 2\u001b[0m chunks, g \u001b[38;5;241m=\u001b[39m\u001b[43mgr\u001b[49m\u001b[38;5;241m.\u001b[39mcreate_KG_from_url(\u001b[38;5;124m\"\u001b[39m\u001b[38;5;124mhttps://en.wikipedia.org/wiki/Knight_of_the_shire\u001b[39m\u001b[38;5;124m\"\u001b[39m, inital_repeats\u001b[38;5;241m=\u001b[39m\u001b[38;5;241m0\u001b[39m,output_file\u001b[38;5;241m=\u001b[39m\u001b[38;5;124m\"\u001b[39m\u001b[38;5;124m./\u001b[39m\u001b[38;5;124m\"\u001b[39m)\n",
      "\u001b[0;31mNameError\u001b[0m: name 'gr' is not defined"
     ]
    }
   ],
   "source": [
    "import networkx as nx\n",
    "chunks, g =gr.create_KG_from_url(\"https://en.wikipedia.org/wiki/Knight_of_the_shire\", inital_repeats=0,output_file=\"./\")"
   ]
  },
  {
   "cell_type": "code",
   "execution_count": 8,
   "metadata": {},
   "outputs": [
    {
     "data": {
      "text/plain": [
       "['The provided text can be divided into two categories: irrelevant information such as page navigation, formatting elements, and Wikipedia headers, and the main content relevant to the topic described. Here’s the breakdown:\\n\\n### Irrelevant Information:\\n- Navigation headers and links such as \"Main page,\" \"Contents,\" \"Current events,\" \"Random article,\" etc.\\n- Options to log in, create an account, and personal tools\\n- Tabs and subheadings for tools, actions, print/export options, and links to other language versions\\n- Generic Wikipedia boilerplate text (like \"From Wikipedia, the free encyclopedia\")\\n- Formatting and interactive elements like \"Jump to content,\" \"move to sidebar,\" \"hide,\" and similar navigation aids\\n\\n### Main Content:\\n- **Title and introductory summary:**\\n  - \"Knight of the shire - Wikipedia\"\\n  - \"Formal title of MPs from county constituencies\"\\n  - \"Knight of the shire\" ([Latin](link): *milites comitatus*) was the formal title for a [member of parliament](link) (MP) representing a [county constituency](link) in the [British House of Commons](link), from its origins in the medieval [Parliament of England](link) until the [Redistribution of Seats Act 1885](link)...\\n\\n- **Historical context and details:**\\n  - The title\\'s origin, use, and prestige compared to other titles\\n  - Election criteria for knights of the shire historically and the changes over time\\n  - Relevant acts and dates such as Henry VI’s act and the Representation of the People Act 1832\\n  - The number of knights per shire and changes leading up to the Redistribution of Seats Act 1885\\n  - Modern usage of the term in a political context\\n\\n### Example Extraction of Main Content:\\n```plaintext\\nKnight of the shire\\n\\nFormal title of MPs from county constituencies\\n\\nKnight of the shire ([Latin]: *milites comitatus*) was the formal title for a member of parliament (MP) representing a county constituency in the British House of Commons, from its origins in the medieval Parliament of England until the Redistribution of Seats Act 1885 ended the practice of each county (or *shire*) forming a single constituency. The corresponding titles for other MPs were *burgess* in a borough constituency (or *citizen* if the borough had city status) and *baron* for a Cinque Ports constituency. Knights of the shire had more prestige than burgesses, and sitting burgesses often stood for election for the shire in the hope of increasing their standing in Parliament.\\n\\nThe name \"knight of the shire\" originally implied that the representative had to be a knight, and the writ of election referred to a belted knight until the 19th century; but by the 14th century men who were not knights were commonly elected. An act of Henry VI (23 Hen. 6. c. 14) stipulated that those eligible for election were knights and \"such notable esquires and gentlemen as have estates sufficient to be knights, and by no means of the degree of yeoman\".\\n\\n> So that the Knights of the Shires for the Parliament hereafter to be chosen, shall be notable Knights of the same Counties for the which they shall so be chosen, or otherwise such notable Esquires, Gentlemen of birth of the same Counties, as shall be able to be Knights; and no Man to be such Knight which standeth in the Degree of a Yeoman and under.  \\n>  — Parliamentary Elections Act 1444 (23 Hen. 6. c. 14)\\n\\nFrom Simon de Montfort\\'s Parliament in 1265, each shire sent two knights, and the number was standard until 1826 when Yorkshire gained two additional knights after the disfranchisement of Grampound borough. Under the Representation of the People Act 1832 counties with larger populations sent more knights than smaller ones. The Redistribution of Seats Act 1885 split each multiple-seat shire into multiple single-seat divisions. This change, together with the concomitant standardisation of the franchise, means that county and borough constituencies now differ only slightly, as to election expenses and their type of returning officer.\\n\\nThe term \"knight of the shire\" has been used more recently in a tongue-in-cheek manner for senior Conservative Party backbenchers representing rural constituencies in England and Wales.\\n```\\nThis filtered text represents the main content relevant to the topic \"Knight of the shire\" and omits the surrounding irrelevant information.',\n",
       " 'The content you\\'ve provided is the main content of the webpage. It appears to be a detailed article about the historical roles and evolution of the \"knight of the shire\" in the English parliamentary system, spanning from the Middle Ages to modern times. This is evident from the historical context, citations, and references included.\\n\\nThe sections, headings, and links to subsections support the flow of a comprehensive examination of the subject. The information is pertinent and contextual, providing a coherent narrative on the development of the English parliamentary franchise system, reform acts, and modern usage of the term.\\n\\n### Examples of Main Content:\\n\\n1. **Middle Ages Section:**\\n   - Discusses the origin and evolution of the English parliamentary system, highlighting significant changes and legislative steps.\\n   - Includes detailed historical references and specific laws.\\n\\n2. **Reform Section:**\\n   - Explores specific legislative changes like the Representation of the People Act 1832 and how they impacted the role and election of knights of the shire.\\n\\n3. **Modern Usage Section:**\\n   - Describes how the term \"knight of the shire\" became obsolete and how it is occasionally used in modern contexts.\\n\\n### Examples of Supporting Information:\\n- **References and Citations:**\\n   - Provide credibility and sources for the historical data presented.\\n   \\n### Irrelevant Formatting/System Headers:\\n- [[edit](...)]\\n- <!-- Link note --> style comments\\n\\nThese parts are more for internal Wikipedia editing and navigation and are not part of the educational content itself.\\n\\nThus, the provided text is indeed the main content of the article aimed at educating readers about the history and significance of the \"knight of the shire\" in the context of English parliamentary history.',\n",
       " 'The provided text contains references, footer information, and other structural elements from a Wikipedia page. Here\\'s a breakdown:\\n\\n**Irrelevant Information:**\\n1. Links to edit sections and sources:\\n   - `[[edit](/w/index.php?title=Knight_of_the_shire&action=edit&section=7 \"Edit section: Sources\")]`\\n2. General Wikipedia footer and policy information:\\n   - `Text is available under the Creative Commons Attribution-ShareAlike License 4.0; additional terms may apply. By using this site, you agree to the Terms of Use and Privacy Policy.`\\n3. Site navigation and Wikimedia Foundation links:\\n   - `Privacy policy`\\n   - `About Wikipedia`\\n   - `Disclaimers`\\n   - `Contact Wikipedia`\\n   - `Code of Conduct`\\n   - `Developers`\\n   - `Statistics`\\n   - `Cookie statement`\\n   - `Mobile view`\\n4. Wikimedia and MediaWiki logos and links:\\n   - ![Wikimedia Foundation]\\n   - ![Powered by MediaWiki]\\n5. Categories and hidden categories used for navigation and metadata:\\n   - `[Categories](/wiki/Help:Category \"Help:Category\")`\\n   - `[Political history of the United Kingdom](/wiki/Category:Political_history_of_the_United_Kingdom \"Category:Political history of the United Kingdom\")`\\n   - `[Members of the Parliament of England (pre-1707)](/wiki/Category:Members_of_the_Parliament_of_England_(pre-1707) \"Category:Members of the Parliament of England (pre-1707)\")`\\n   - Hidden categories like `[CS1 maint: bot: original URL status unknown]`\\n6. Edited timestamp:\\n   - `This page was last edited on 19 April 2024, at 21:20 (UTC).`\\n\\n**Potentially Relevant Information:**\\n1. List of sources and references:\\n   - * The text of the 1832 Reform Act\\n   - * Chronological Table of the Statutes: Part 1 1235-1962\\n   - * Electoral Reform in England and Wales\\n   - * The Statutes: Revised Edition, Vol. I Henry III to James II\\n   - * The Statutes: Second Revised Edition, Vol. XVI 1884-1886\\n\\nWhile the sources and references provide valuable context for someone researching the topic, the majority of the extracted content is not the main subject matter of the Wikipedia page but rather supplementary information and navigational elements.']"
      ]
     },
     "execution_count": 8,
     "metadata": {},
     "output_type": "execute_result"
    }
   ],
   "source": [
    "chunks "
   ]
  },
  {
   "cell_type": "code",
   "execution_count": 2,
   "metadata": {},
   "outputs": [],
   "source": [
    "chunks = ['The provided text can be divided into two categories: irrelevant information such as page navigation, formatting elements, and Wikipedia headers, and the main content relevant to the topic described. Here’s the breakdown:\\n\\n### Irrelevant Information:\\n- Navigation headers and links such as \"Main page,\" \"Contents,\" \"Current events,\" \"Random article,\" etc.\\n- Options to log in, create an account, and personal tools\\n- Tabs and subheadings for tools, actions, print/export options, and links to other language versions\\n- Generic Wikipedia boilerplate text (like \"From Wikipedia, the free encyclopedia\")\\n- Formatting and interactive elements like \"Jump to content,\" \"move to sidebar,\" \"hide,\" and similar navigation aids\\n\\n### Main Content:\\n- **Title and introductory summary:**\\n  - \"Knight of the shire - Wikipedia\"\\n  - \"Formal title of MPs from county constituencies\"\\n  - \"Knight of the shire\" ([Latin](link): *milites comitatus*) was the formal title for a [member of parliament](link) (MP) representing a [county constituency](link) in the [British House of Commons](link), from its origins in the medieval [Parliament of England](link) until the [Redistribution of Seats Act 1885](link)...\\n\\n- **Historical context and details:**\\n  - The title\\'s origin, use, and prestige compared to other titles\\n  - Election criteria for knights of the shire historically and the changes over time\\n  - Relevant acts and dates such as Henry VI’s act and the Representation of the People Act 1832\\n  - The number of knights per shire and changes leading up to the Redistribution of Seats Act 1885\\n  - Modern usage of the term in a political context\\n\\n### Example Extraction of Main Content:\\n```plaintext\\nKnight of the shire\\n\\nFormal title of MPs from county constituencies\\n\\nKnight of the shire ([Latin]: *milites comitatus*) was the formal title for a member of parliament (MP) representing a county constituency in the British House of Commons, from its origins in the medieval Parliament of England until the Redistribution of Seats Act 1885 ended the practice of each county (or *shire*) forming a single constituency. The corresponding titles for other MPs were *burgess* in a borough constituency (or *citizen* if the borough had city status) and *baron* for a Cinque Ports constituency. Knights of the shire had more prestige than burgesses, and sitting burgesses often stood for election for the shire in the hope of increasing their standing in Parliament.\\n\\nThe name \"knight of the shire\" originally implied that the representative had to be a knight, and the writ of election referred to a belted knight until the 19th century; but by the 14th century men who were not knights were commonly elected. An act of Henry VI (23 Hen. 6. c. 14) stipulated that those eligible for election were knights and \"such notable esquires and gentlemen as have estates sufficient to be knights, and by no means of the degree of yeoman\".\\n\\n> So that the Knights of the Shires for the Parliament hereafter to be chosen, shall be notable Knights of the same Counties for the which they shall so be chosen, or otherwise such notable Esquires, Gentlemen of birth of the same Counties, as shall be able to be Knights; and no Man to be such Knight which standeth in the Degree of a Yeoman and under.  \\n>  — Parliamentary Elections Act 1444 (23 Hen. 6. c. 14)\\n\\nFrom Simon de Montfort\\'s Parliament in 1265, each shire sent two knights, and the number was standard until 1826 when Yorkshire gained two additional knights after the disfranchisement of Grampound borough. Under the Representation of the People Act 1832 counties with larger populations sent more knights than smaller ones. The Redistribution of Seats Act 1885 split each multiple-seat shire into multiple single-seat divisions. This change, together with the concomitant standardisation of the franchise, means that county and borough constituencies now differ only slightly, as to election expenses and their type of returning officer.\\n\\nThe term \"knight of the shire\" has been used more recently in a tongue-in-cheek manner for senior Conservative Party backbenchers representing rural constituencies in England and Wales.\\n```\\nThis filtered text represents the main content relevant to the topic \"Knight of the shire\" and omits the surrounding irrelevant information.',\n",
    " 'The content you\\'ve provided is the main content of the webpage. It appears to be a detailed article about the historical roles and evolution of the \"knight of the shire\" in the English parliamentary system, spanning from the Middle Ages to modern times. This is evident from the historical context, citations, and references included.\\n\\nThe sections, headings, and links to subsections support the flow of a comprehensive examination of the subject. The information is pertinent and contextual, providing a coherent narrative on the development of the English parliamentary franchise system, reform acts, and modern usage of the term.\\n\\n### Examples of Main Content:\\n\\n1. **Middle Ages Section:**\\n   - Discusses the origin and evolution of the English parliamentary system, highlighting significant changes and legislative steps.\\n   - Includes detailed historical references and specific laws.\\n\\n2. **Reform Section:**\\n   - Explores specific legislative changes like the Representation of the People Act 1832 and how they impacted the role and election of knights of the shire.\\n\\n3. **Modern Usage Section:**\\n   - Describes how the term \"knight of the shire\" became obsolete and how it is occasionally used in modern contexts.\\n\\n### Examples of Supporting Information:\\n- **References and Citations:**\\n   - Provide credibility and sources for the historical data presented.\\n   \\n### Irrelevant Formatting/System Headers:\\n- [[edit](...)]\\n- <!-- Link note --> style comments\\n\\nThese parts are more for internal Wikipedia editing and navigation and are not part of the educational content itself.\\n\\nThus, the provided text is indeed the main content of the article aimed at educating readers about the history and significance of the \"knight of the shire\" in the context of English parliamentary history.',\n",
    " 'The provided text contains references, footer information, and other structural elements from a Wikipedia page. Here\\'s a breakdown:\\n\\n**Irrelevant Information:**\\n1. Links to edit sections and sources:\\n   - `[[edit](/w/index.php?title=Knight_of_the_shire&action=edit&section=7 \"Edit section: Sources\")]`\\n2. General Wikipedia footer and policy information:\\n   - `Text is available under the Creative Commons Attribution-ShareAlike License 4.0; additional terms may apply. By using this site, you agree to the Terms of Use and Privacy Policy.`\\n3. Site navigation and Wikimedia Foundation links:\\n   - `Privacy policy`\\n   - `About Wikipedia`\\n   - `Disclaimers`\\n   - `Contact Wikipedia`\\n   - `Code of Conduct`\\n   - `Developers`\\n   - `Statistics`\\n   - `Cookie statement`\\n   - `Mobile view`\\n4. Wikimedia and MediaWiki logos and links:\\n   - ![Wikimedia Foundation]\\n   - ![Powered by MediaWiki]\\n5. Categories and hidden categories used for navigation and metadata:\\n   - `[Categories](/wiki/Help:Category \"Help:Category\")`\\n   - `[Political history of the United Kingdom](/wiki/Category:Political_history_of_the_United_Kingdom \"Category:Political history of the United Kingdom\")`\\n   - `[Members of the Parliament of England (pre-1707)](/wiki/Category:Members_of_the_Parliament_of_England_(pre-1707) \"Category:Members of the Parliament of England (pre-1707)\")`\\n   - Hidden categories like `[CS1 maint: bot: original URL status unknown]`\\n6. Edited timestamp:\\n   - `This page was last edited on 19 April 2024, at 21:20 (UTC).`\\n\\n**Potentially Relevant Information:**\\n1. List of sources and references:\\n   - * The text of the 1832 Reform Act\\n   - * Chronological Table of the Statutes: Part 1 1235-1962\\n   - * Electoral Reform in England and Wales\\n   - * The Statutes: Revised Edition, Vol. I Henry III to James II\\n   - * The Statutes: Second Revised Edition, Vol. XVI 1884-1886\\n\\nWhile the sources and references provide valuable context for someone researching the topic, the majority of the extracted content is not the main subject matter of the Wikipedia page but rather supplementary information and navigational elements.']"
   ]
  },
  {
   "cell_type": "code",
   "execution_count": 3,
   "metadata": {},
   "outputs": [],
   "source": [
    "import networkx as nx\n",
    "g = nx.read_graphml(\"/Users/chrisoosthuizen/projects/GraphCreator/src/GraphCreation/graph.graphml\")"
   ]
  },
  {
   "cell_type": "code",
   "execution_count": 4,
   "metadata": {},
   "outputs": [
    {
     "name": "stderr",
     "output_type": "stream",
     "text": [
      "/Library/Frameworks/Python.framework/Versions/3.12/lib/python3.12/site-packages/pydantic/_internal/_fields.py:151: UserWarning: Field \"model_id\" has conflict with protected namespace \"model_\".\n",
      "\n",
      "You may be able to resolve this warning by setting `model_config['protected_namespaces'] = ()`.\n",
      "  warnings.warn(\n",
      "/Library/Frameworks/Python.framework/Versions/3.12/lib/python3.12/site-packages/huggingface_hub/file_download.py:1132: FutureWarning: `resume_download` is deprecated and will be removed in version 1.0.0. Downloads always resume when possible. If you want to force a new download, use `force_download=True`.\n",
      "  warnings.warn(\n",
      "/Library/Frameworks/Python.framework/Versions/3.12/lib/python3.12/site-packages/transformers/convert_slow_tokenizer.py:560: UserWarning: The sentencepiece tokenizer that you are converting to a fast tokenizer uses the byte fallback option which is not implemented in the fast tokenizers. In practice this means that the fast version of the tokenizer can produce unknown tokens whereas the sentencepiece version would have converted these unknown tokens into a sequence of byte tokens matching the original piece of text.\n",
      "  warnings.warn(\n"
     ]
    },
    {
     "name": "stdout",
     "output_type": "stream",
     "text": [
      "['What was the formal title for a member of parliament representing a county constituency in the British House of Commons until the Redistribution of Seats Act 1885?', 'What role did the Representation of the People Act 1832 play in the evolution of the \"knight of the shire\" within the English parliamentary system?', 'What are some of the sources listed on the Wikipedia page for historical legislative documents in England?']\n"
     ]
    },
    {
     "data": {
      "text/plain": [
       "{'score': 0.4115926342865847,\n",
       " 'average_judges': 0.6666666666666666,\n",
       " 'average_follows': 0.02268079559629162,\n",
       " 'average_contradicts': 0.022680774331092834,\n",
       " 'bridge_edges': 17,\n",
       " 'articulation_points': 6,\n",
       " 'average_degree': 3.3617021276595747,\n",
       " 'efficency': 0.4359389454209114,\n",
       " 'average_betweenness': 0.03618049131462637,\n",
       " 'average_reaching': 0.36531190926275986,\n",
       " 'number_of_unconneced_graphs': 1,\n",
       " 'number_of_triangles': 38.0,\n",
       " 'number_of_nodes': 47,\n",
       " 'number_of_edges': 79,\n",
       " 'average_clustering': 0.26956341530809613,\n",
       " 'average_shortest_path': 2.628122109158187}"
      ]
     },
     "execution_count": 4,
     "metadata": {},
     "output_type": "execute_result"
    }
   ],
   "source": [
    "import src.GraphCreation.BenchMarks as bm\n",
    "benchmarks = bm.score(g,chunks)\n",
    "benchmarks"
   ]
  },
  {
   "cell_type": "code",
   "execution_count": 1,
   "metadata": {},
   "outputs": [
    {
     "name": "stderr",
     "output_type": "stream",
     "text": [
      "/Library/Frameworks/Python.framework/Versions/3.12/lib/python3.12/site-packages/pydantic/_internal/_fields.py:151: UserWarning: Field \"model_id\" has conflict with protected namespace \"model_\".\n",
      "\n",
      "You may be able to resolve this warning by setting `model_config['protected_namespaces'] = ()`.\n",
      "  warnings.warn(\n",
      "/Library/Frameworks/Python.framework/Versions/3.12/lib/python3.12/site-packages/huggingface_hub/file_download.py:1132: FutureWarning: `resume_download` is deprecated and will be removed in version 1.0.0. Downloads always resume when possible. If you want to force a new download, use `force_download=True`.\n",
      "  warnings.warn(\n",
      "/Library/Frameworks/Python.framework/Versions/3.12/lib/python3.12/site-packages/transformers/convert_slow_tokenizer.py:560: UserWarning: The sentencepiece tokenizer that you are converting to a fast tokenizer uses the byte fallback option which is not implemented in the fast tokenizers. In practice this means that the fast version of the tokenizer can produce unknown tokens whereas the sentencepiece version would have converted these unknown tokens into a sequence of byte tokens matching the original piece of text.\n",
      "  warnings.warn(\n"
     ]
    },
    {
     "data": {
      "text/plain": [
       "0.3921936454049073"
      ]
     },
     "execution_count": 1,
     "metadata": {},
     "output_type": "execute_result"
    }
   ],
   "source": [
    "data = {'average_judges': [1.0, 'Maximize', 'Standard', 0],\n",
    " 'average_follows': [-0.07251901427904765, 'Maximize', 'Standard', 0],\n",
    " 'average_contradicts': [-0.07251900756576408, 'Maximize', 'Standard', 0],\n",
    " 'bridge_edges': [7, 'Minimize', 'Compress', 1],\n",
    " 'articulation_points': [3, 'Minimize', 'Compress', 1],\n",
    " 'average_degree': [3.611111111111111, 'Maximize', 'Compress', 2],\n",
    " 'efficency': [0.3838737717309118, 'Maximize', 'Standard', 2],\n",
    " 'average_betweenness': [0.05340802987861812, 'Maximize', 'Standard', 2],\n",
    " 'average_reaching': [0.31242371234207966, 'Maximize', 'Standard', 1],\n",
    " 'number_of_unconneced_graphs': [2, 'Minimize', 'Compress', 1],\n",
    " 'number_of_triangles': [25.0, 'Maximize', 'Compress', 1],\n",
    " 'number_of_nodes': [36, 'Maximize', 'Compress', 3],\n",
    " 'number_of_edges': [65, 'Maximize', 'Compress', 3],\n",
    " 'average_clustering': [0.37758748723661006, 'Maximize', 'Compress', 1],\n",
    " 'average_shortest_path': [2.019607843137255, 'Minimize', 'Compress', 2]}\n",
    "\n",
    "import src.GraphCreation.BenchMarks as bm\n",
    "bm.benchmark_to_score(data)"
   ]
  },
  {
   "cell_type": "code",
   "execution_count": 11,
   "metadata": {},
   "outputs": [
    {
     "ename": "AttributeError",
     "evalue": "Plotting not available; please install pycairo or cairocffi",
     "output_type": "error",
     "traceback": [
      "\u001b[0;31m---------------------------------------------------------------------------\u001b[0m",
      "\u001b[0;31mAttributeError\u001b[0m                            Traceback (most recent call last)",
      "Cell \u001b[0;32mIn[11], line 5\u001b[0m\n\u001b[1;32m      3\u001b[0m G \u001b[38;5;241m=\u001b[39m ig\u001b[38;5;241m.\u001b[39mread(\u001b[38;5;124m\"\u001b[39m\u001b[38;5;124m/Users/chrisoosthuizen/projects/GraphCreator/src/GraphCreation/graph.graphml\u001b[39m\u001b[38;5;124m\"\u001b[39m)\n\u001b[1;32m      4\u001b[0m partition \u001b[38;5;241m=\u001b[39m la\u001b[38;5;241m.\u001b[39mfind_partition(G, la\u001b[38;5;241m.\u001b[39mModularityVertexPartition)\n\u001b[0;32m----> 5\u001b[0m \u001b[43mig\u001b[49m\u001b[38;5;241;43m.\u001b[39;49m\u001b[43mplot\u001b[49m\u001b[43m(\u001b[49m\u001b[43mpartition\u001b[49m\u001b[43m)\u001b[49m\n",
      "File \u001b[0;32m/Library/Frameworks/Python.framework/Versions/3.12/lib/python3.12/site-packages/igraph/drawing/__init__.py:299\u001b[0m, in \u001b[0;36mplot\u001b[0;34m(obj, target, bbox, *args, **kwds)\u001b[0m\n\u001b[1;32m    297\u001b[0m background \u001b[38;5;241m=\u001b[39m kwds\u001b[38;5;241m.\u001b[39mpop(\u001b[38;5;124m\"\u001b[39m\u001b[38;5;124mbackground\u001b[39m\u001b[38;5;124m\"\u001b[39m, \u001b[38;5;124m\"\u001b[39m\u001b[38;5;124mwhite\u001b[39m\u001b[38;5;124m\"\u001b[39m)\n\u001b[1;32m    298\u001b[0m margin \u001b[38;5;241m=\u001b[39m \u001b[38;5;28mfloat\u001b[39m(kwds\u001b[38;5;241m.\u001b[39mpop(\u001b[38;5;124m\"\u001b[39m\u001b[38;5;124mmargin\u001b[39m\u001b[38;5;124m\"\u001b[39m, \u001b[38;5;241m20\u001b[39m))\n\u001b[0;32m--> 299\u001b[0m result \u001b[38;5;241m=\u001b[39m \u001b[43mCairoPlot\u001b[49m\u001b[43m(\u001b[49m\n\u001b[1;32m    300\u001b[0m \u001b[43m    \u001b[49m\u001b[43mtarget\u001b[49m\u001b[38;5;241;43m=\u001b[39;49m\u001b[43mtarget\u001b[49m\u001b[43m,\u001b[49m\n\u001b[1;32m    301\u001b[0m \u001b[43m    \u001b[49m\u001b[43mbbox\u001b[49m\u001b[38;5;241;43m=\u001b[39;49m\u001b[43mbbox\u001b[49m\u001b[43m,\u001b[49m\n\u001b[1;32m    302\u001b[0m \u001b[43m    \u001b[49m\u001b[43mpalette\u001b[49m\u001b[38;5;241;43m=\u001b[39;49m\u001b[43mpalette\u001b[49m\u001b[43m,\u001b[49m\n\u001b[1;32m    303\u001b[0m \u001b[43m    \u001b[49m\u001b[43mbackground\u001b[49m\u001b[38;5;241;43m=\u001b[39;49m\u001b[43mbackground\u001b[49m\u001b[43m,\u001b[49m\n\u001b[1;32m    304\u001b[0m \u001b[43m\u001b[49m\u001b[43m)\u001b[49m\n\u001b[1;32m    305\u001b[0m item_bbox \u001b[38;5;241m=\u001b[39m result\u001b[38;5;241m.\u001b[39mbbox\u001b[38;5;241m.\u001b[39mcontract(margin)\n\u001b[1;32m    306\u001b[0m result\u001b[38;5;241m.\u001b[39madd(obj, item_bbox, \u001b[38;5;241m*\u001b[39margs, \u001b[38;5;241m*\u001b[39m\u001b[38;5;241m*\u001b[39mkwds)\n",
      "File \u001b[0;32m/Library/Frameworks/Python.framework/Versions/3.12/lib/python3.12/site-packages/igraph/drawing/cairo/plot.py:148\u001b[0m, in \u001b[0;36mCairoPlot.__init__\u001b[0;34m(self, target, bbox, palette, background)\u001b[0m\n\u001b[1;32m    146\u001b[0m \u001b[38;5;28;01mif\u001b[39;00m target \u001b[38;5;129;01mis\u001b[39;00m \u001b[38;5;28;01mNone\u001b[39;00m:\n\u001b[1;32m    147\u001b[0m     \u001b[38;5;28mself\u001b[39m\u001b[38;5;241m.\u001b[39m_need_tmpfile \u001b[38;5;241m=\u001b[39m \u001b[38;5;28;01mTrue\u001b[39;00m\n\u001b[0;32m--> 148\u001b[0m     \u001b[38;5;28mself\u001b[39m\u001b[38;5;241m.\u001b[39m_surface \u001b[38;5;241m=\u001b[39m \u001b[43mcairo\u001b[49m\u001b[38;5;241;43m.\u001b[39;49m\u001b[43mImageSurface\u001b[49m(\n\u001b[1;32m    149\u001b[0m         cairo\u001b[38;5;241m.\u001b[39mFORMAT_ARGB32, \u001b[38;5;28mint\u001b[39m(\u001b[38;5;28mself\u001b[39m\u001b[38;5;241m.\u001b[39mbbox\u001b[38;5;241m.\u001b[39mwidth), \u001b[38;5;28mint\u001b[39m(\u001b[38;5;28mself\u001b[39m\u001b[38;5;241m.\u001b[39mbbox\u001b[38;5;241m.\u001b[39mheight)\n\u001b[1;32m    150\u001b[0m     )\n\u001b[1;32m    151\u001b[0m \u001b[38;5;28;01melif\u001b[39;00m \u001b[38;5;28misinstance\u001b[39m(target, cairo\u001b[38;5;241m.\u001b[39mSurface):\n\u001b[1;32m    152\u001b[0m     \u001b[38;5;28mself\u001b[39m\u001b[38;5;241m.\u001b[39m_surface \u001b[38;5;241m=\u001b[39m target\n",
      "File \u001b[0;32m/Library/Frameworks/Python.framework/Versions/3.12/lib/python3.12/site-packages/igraph/drawing/utils.py:428\u001b[0m, in \u001b[0;36mFakeModule.__getattr__\u001b[0;34m(self, _)\u001b[0m\n\u001b[1;32m    427\u001b[0m \u001b[38;5;28;01mdef\u001b[39;00m \u001b[38;5;21m__getattr__\u001b[39m(\u001b[38;5;28mself\u001b[39m, _):\n\u001b[0;32m--> 428\u001b[0m     \u001b[38;5;28;01mraise\u001b[39;00m \u001b[38;5;167;01mAttributeError\u001b[39;00m(\u001b[38;5;28mself\u001b[39m\u001b[38;5;241m.\u001b[39m_message)\n",
      "\u001b[0;31mAttributeError\u001b[0m: Plotting not available; please install pycairo or cairocffi"
     ]
    }
   ],
   "source": []
  },
  {
   "cell_type": "code",
   "execution_count": 2,
   "metadata": {},
   "outputs": [
    {
     "name": "stderr",
     "output_type": "stream",
     "text": [
      "/Library/Frameworks/Python.framework/Versions/3.12/lib/python3.12/site-packages/pydantic/_internal/_fields.py:151: UserWarning: Field \"model_id\" has conflict with protected namespace \"model_\".\n",
      "\n",
      "You may be able to resolve this warning by setting `model_config['protected_namespaces'] = ()`.\n",
      "  warnings.warn(\n",
      "/Library/Frameworks/Python.framework/Versions/3.12/lib/python3.12/site-packages/huggingface_hub/file_download.py:1132: FutureWarning: `resume_download` is deprecated and will be removed in version 1.0.0. Downloads always resume when possible. If you want to force a new download, use `force_download=True`.\n",
      "  warnings.warn(\n",
      "/Library/Frameworks/Python.framework/Versions/3.12/lib/python3.12/site-packages/transformers/convert_slow_tokenizer.py:560: UserWarning: The sentencepiece tokenizer that you are converting to a fast tokenizer uses the byte fallback option which is not implemented in the fast tokenizers. In practice this means that the fast version of the tokenizer can produce unknown tokens whereas the sentencepiece version would have converted these unknown tokens into a sequence of byte tokens matching the original piece of text.\n",
      "  warnings.warn(\n"
     ]
    },
    {
     "data": {
      "text/plain": [
       "{'number_of_unconneced_nodes': 3,\n",
       " 'number_of_triangles': 2.0,\n",
       " 'number_of_nodes': 31,\n",
       " 'number_of_edges': 35,\n",
       " 'average_clustering': 0.1021505376344086,\n",
       " 'average_shortest_path': 1.7312440645773979}"
      ]
     },
     "execution_count": 2,
     "metadata": {},
     "output_type": "execute_result"
    }
   ],
   "source": [
    "\n"
   ]
  },
  {
   "cell_type": "code",
   "execution_count": null,
   "metadata": {},
   "outputs": [
    {
     "data": {
      "text/plain": [
       "tensor([0.9838, 0.0162], grad_fn=<SelectBackward0>)"
      ]
     },
     "execution_count": 8,
     "metadata": {},
     "output_type": "execute_result"
    }
   ],
   "source": [
    "bm.follow_premise(\"mice have been to high altitudes\", \"Animals had been used in aeronautic exploration since 1783 when the Montgolfier brothers sent a sheep, a duck, and a rooster aloft in a hot air balloon to see if ground-dwelling animals can survive (the duck serving as the experimental control). The limited supply of captured German V-2 rockets led to the U.S. use of high-altitude balloon launches carrying fruit flies, mice, hamsters, guinea pigs, cats, dogs, frogs, goldfish and monkeys to heights of up to 44,000 m (144,000 ft; 27 mi).[2] These high-altitude balloon flights from 1947 to 1960 tested radiation exposure, physiological response, life support and recovery systems. The U.S. high-altitude manned balloon flights occurred in the same time frame, one of which also carried fruit flies.\")"
   ]
  },
  {
   "cell_type": "code",
   "execution_count": 5,
   "metadata": {},
   "outputs": [
    {
     "name": "stderr",
     "output_type": "stream",
     "text": [
      "huggingface/tokenizers: The current process just got forked, after parallelism has already been used. Disabling parallelism to avoid deadlocks...\n",
      "To disable this warning, you can either:\n",
      "\t- Avoid using `tokenizers` before the fork if possible\n",
      "\t- Explicitly set the environment variable TOKENIZERS_PARALLELISM=(true | false)\n"
     ]
    },
    {
     "data": {
      "text/plain": [
       "True"
      ]
     },
     "execution_count": 5,
     "metadata": {},
     "output_type": "execute_result"
    }
   ],
   "source": [
    "bm.llm_as_judge(\"Hello there how are you?\", \"Howdy partner, what a wonderful day it is today! How the hell are you?\")"
   ]
  },
  {
   "cell_type": "code",
   "execution_count": null,
   "metadata": {},
   "outputs": [],
   "source": []
  }
 ],
 "metadata": {
  "kernelspec": {
   "display_name": "Python 3",
   "language": "python",
   "name": "python3"
  },
  "language_info": {
   "codemirror_mode": {
    "name": "ipython",
    "version": 3
   },
   "file_extension": ".py",
   "mimetype": "text/x-python",
   "name": "python",
   "nbconvert_exporter": "python",
   "pygments_lexer": "ipython3",
   "version": "3.12.0"
  }
 },
 "nbformat": 4,
 "nbformat_minor": 2
}
