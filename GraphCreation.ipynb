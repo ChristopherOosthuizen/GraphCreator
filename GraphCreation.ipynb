{
 "cells": [
  {
   "cell_type": "code",
   "execution_count": 1,
   "metadata": {},
   "outputs": [
    {
     "name": "stdout",
     "output_type": "stream",
     "text": [
      "Note: to be able to use all crisp methods, you need to install some additional packages:  {'bayanpy', 'graph_tool', 'infomap', 'wurlitzer'}\n",
      "Note: to be able to use all crisp methods, you need to install some additional packages:  {'ASLPAw', 'pyclustering'}\n",
      "Note: to be able to use all crisp methods, you need to install some additional packages:  {'infomap', 'wurlitzer'}\n"
     ]
    }
   ],
   "source": [
    "from src import GraphCreation"
   ]
  },
  {
   "cell_type": "code",
   "execution_count": 2,
   "metadata": {},
   "outputs": [],
   "source": [
    "import os\n",
    "os.environ['OPENAI_API_KEY']= \"\""
   ]
  },
  {
   "cell_type": "code",
   "execution_count": null,
   "metadata": {},
   "outputs": [],
   "source": [
    "from src import GraphCreation as gr\n",
    "import pandas as pd\n",
    "from src import BenchMarks as bm\n",
    "data = pd.read_csv(\"/Users/chrisoosthuizen/projects/GraphCreator/Untitled spreadsheet - Sheet1.csv\")\n",
    "bm.bench_mark_from_dataset(data,\"source\",'response','question', output_file='./oos/', eliminate_all_islands=False, inital_repeats=1, chunks_precentage_linked=0, ner=False,ner_type=\"llm\")"
   ]
  },
  {
   "cell_type": "code",
   "execution_count": 3,
   "metadata": {},
   "outputs": [
    {
     "name": "stdout",
     "output_type": "stream",
     "text": [
      "Number of chunks: 62\n",
      "house of commons,locatedin,united kingdom,\n",
      "house of commons,originatedfrom,medieval parliament of england,\n",
      "redistribution of seats act 1885,ended,practice of each county forming a single constituency,\n",
      "county,called,shire,\n",
      "other mps,titled,burgess,\n",
      "burgess,locatedin,borough,house of commons,locatedin,united kingdom,\n",
      "house of commons,originatedfrom,medieval parliament of england,\n",
      "redistribution of seats act 1885,ended,practice of each county forming a single constituency,\n",
      "county,called,shire,\n",
      "other mps,titled,burgess,\n",
      "burgess,locatedin,borough,\n",
      "constituency,hastitle,burgess,\n",
      "constituency,hastitle,citizen,\n",
      "borough constituency,hastitle,burgess,\n",
      "borough constituency,hastitle,citizen,\n",
      "cinque ports constituency,hastitle,baron,\n",
      "borough constituency,hasstatus,city,constituency,hastitle,burgess,\n",
      "constituency,hastitle,citizen,\n",
      "borough constituency,hastitle,burgess,\n",
      "borough constituency,hastitle,citizen,\n",
      "cinque ports constituency,hastitle,baron,\n",
      "borough constituency,hasstatus,city,\n",
      "knight of the shire,relatedto,article,\n",
      "knight of the shire,relatedto,talk,\n",
      "article,writtenin,english,\n",
      "talk,writtenin,english,\n",
      "knight of the shire,translatedto,deutsch,knight of the shire,relatedto,article,\n",
      "knight of the shire,relatedto,talk,\n",
      "article,writtenin,english,\n",
      "talk,writtenin,english,\n",
      "knight of the shire,translatedto,deutsch,\n",
      "electors of knights of the shire act 1432,amended,the 1430 law,\n",
      "electors of knights of the shire act 1432,re-enacted,the 1430 law,\n",
      "voter,requires,forty-shilling freehold,\n",
      "voter,requires,residence in county,\n",
      "residence in county,requires,forty-shilling freehold,electors of knights of the shire act 1432,amended,the 1430 law,\n",
      "electors of knights of the shire act 1432,re-enacted,the 1430 law,\n",
      "voter,requires,forty-shilling freehold,\n",
      "voter,requires,residence in county,\n",
      "residence in county,requires,forty-shilling freehold,\n",
      "royal expenditures,demandsfor,accounting,\n",
      "king,criticizedfor,management of the military,\n",
      "de la mare,imprisonedfor,actions,\n",
      "office of speaker of the house of commons,createdfor,representative voice for the commons,\n",
      "de la mare,heldposition,speaker of the house,\n",
      "edward iii,diedin,1377,\n",
      "de la mare,releasedupon,death of edward iii,royal expenditures,demandsfor,accounting,\n",
      "king,criticizedfor,management of the military,\n",
      "de la mare,imprisonedfor,actions,\n",
      "office of speaker of the house of commons,createdfor,representative voice for the commons,\n",
      "de la mare,heldposition,speaker of the house,\n",
      "edward iii,diedin,1377,\n",
      "de la mare,releasedupon,death of edward iii,\n",
      "elections,contextualizedby,before1430,\n",
      "knightsoftheshire,righttovote,elections,\n",
      "forty-shillingfreeholders,restrict,elections,\n",
      "charlesseymour,discusses,originalcountyfranchise,\n",
      "allfreeinhabitanthouseholders,votedinoriginalcountyfranchise,elections,\n",
      "parliamentaryqualification,comparedto,countycourtattendancequalification,\n",
      "parliamentaryqualification,definedby,residencequalification,\n",
      "residencequalification,requiredfor,voting,elections,contextualizedby,before1430,\n",
      "knightsoftheshire,righttovote,elections,\n",
      "forty-shillingfreeholders,restrict,elections,\n",
      "charlesseymour,discusses,originalcountyfranchise,\n",
      "allfreeinhabitanthouseholders,votedinoriginalcountyfranchise,elections,\n",
      "parliamentaryqualification,comparedto,countycourtattendancequalification,\n",
      "parliamentaryqualification,definedby,residencequalification,\n",
      "residencequalification,requiredfor,voting,\n",
      "blackstone,authorof,*commentaries on the laws of england*,\n",
      "commentaries on the laws of england,cites,23 hen.6 c.15,\n",
      "knights,memberof,shires,\n",
      "knights,servein,parliament,\n",
      "parliament,elects,knights,\n",
      "knights,belongto,counties,\n",
      "esquires,canbecome,knights,\n",
      "gentlemen,canbecome,knights,blackstone,authorof,*commentaries on the laws of england*,\n",
      "*commentaries on the laws of england*,cites,23 hen.6 c.15,\n",
      "knights,memberof,shires,\n",
      "knights,servein,parliament,\n",
      "parliament,elects,knights,\n",
      "knights,belongto,counties,\n",
      "esquires,canbecome,knights,\n",
      "gentlemen,canbecome,knights,\n",
      "knight of the shire,,representative,\n",
      "representative,requiredtobe,knight,\n",
      "writ of election,referredto,knight,\n",
      "men,electedby,14th century,\n",
      "act,createdby,henry vi,\n",
      "henry vi,issued,23 hen 6 c. 14,knight of the shire,,representative,\n",
      "representative,requiredtobe,knight,\n",
      "writ of election,referredto,knight,\n",
      "men,electedby,14th century,\n",
      "act,createdby,henry vi,\n",
      "henry vi,issued,23 hen 6 c. 14,\n",
      "tomlins,authorof,the law-dictionary,\n",
      "thomas edlyne,referencedin,the law-dictionary,\n",
      "granger,coauthorof,the law-dictionary,\n",
      "thomas colpitts,referencedin,the law-dictionary,\n",
      "the law-dictionary,discusses,british law,\n",
      "the law-dictionary,isabout,knights of the shire,\n",
      "knights of the shire,topicin,the law-dictionary,\n",
      "the law-dictionary,contains,volume ii,\n",
      "volume ii,hasedition,4th edition,\n",
      "the law-dictionary,publishedin,london,\n",
      "london,locationof,clarke,\n",
      "the law-dictionary,haspage,10,tomlins,authorof,the law-dictionary,\n",
      "thomas edlyne,referencedin,the law-dictionary,\n",
      "granger,coauthorof,the law-dictionary,\n",
      "thomas colpitts,referencedin,the law-dictionary,\n",
      "the law-dictionary,discusses,british law,\n",
      "the law-dictionary,isabout,knights of the shire,\n",
      "knights of the shire,topicin,the law-dictionary,\n",
      "the law-dictionary,contains,volume ii,\n",
      "volume ii,hasedition,4th edition,\n",
      "the law-dictionary,publishedin,london,\n",
      "london,locationof,clarke,\n",
      "the law-dictionary,haspage,10,\n",
      "simon de montfort,organized,parliament,\n",
      "shire,sent,knights,\n",
      "knights,represented,shire,\n",
      "yorkshire,gained,knights,\n",
      "grampound borough,disfranchised,in 1826,\n",
      "representation of the people act,established,in 1832simon de montfort,organized,parliament,\n",
      "shire,sent,knights,\n",
      "knights,represented,shire,\n",
      "yorkshire,gained,knights,\n",
      "grampound borough,disfranchised,in 1826,\n",
      "representation of the people act,established,in 1832\n"
     ]
    },
    {
     "name": "stderr",
     "output_type": "stream",
     "text": [
      "Exception in thread Thread-181 (_combine_one):\n",
      "Traceback (most recent call last):\n",
      "  File \"/Library/Frameworks/Python.framework/Versions/3.12/lib/python3.12/threading.py\", line 1052, in _bootstrap_inner\n",
      "    self.run()\n",
      "  File \"/Users/chrisoosthuizen/Library/Python/3.12/lib/python/site-packages/ipykernel/ipkernel.py\", line 766, in run_closure\n",
      "    _threading_Thread_run(self)\n",
      "  File \"/Library/Frameworks/Python.framework/Versions/3.12/lib/python3.12/threading.py\", line 989, in run\n",
      "    self._target(*self._args, **self._kwargs)\n",
      "  File \"/Users/chrisoosthuizen/projects/GraphCreator/src/GraphCreation/GraphCreation.py\", line 90, in _combine_one\n",
      "    list[position] = lp._combine_ontologies(ont1, ont2, sums, model_id=model_id)\n",
      "                     ^^^^^^^^^^^^^^^^^^^^^^^^^^^^^^^^^^^^^^^^^^^^^^^^^^^^^^^^^^^\n",
      "  File \"/Users/chrisoosthuizen/projects/GraphCreator/src/GraphCreation/LinkPrediction.py\", line 46, in _combine_ontologies\n",
      "    chunks = _one_switch(ont1)+_one_switch(ont2)\n",
      "             ^^^^^^^^^^^^^^^^^\n",
      "  File \"/Users/chrisoosthuizen/projects/GraphCreator/src/GraphCreation/LinkPrediction.py\", line 62, in _one_switch\n",
      "    G.add_edge(objects[0], objects[2], label=objects[1])\n",
      "                           ~~~~~~~^^^\n",
      "IndexError: list index out of range\n",
      "Exception in thread Thread-180 (_combine_one):\n",
      "Traceback (most recent call last):\n",
      "  File \"/Library/Frameworks/Python.framework/Versions/3.12/lib/python3.12/threading.py\", line 1052, in _bootstrap_inner\n",
      "    self.run()\n",
      "  File \"/Users/chrisoosthuizen/Library/Python/3.12/lib/python/site-packages/ipykernel/ipkernel.py\", line 766, in run_closure\n",
      "    _threading_Thread_run(self)\n",
      "  File \"/Library/Frameworks/Python.framework/Versions/3.12/lib/python3.12/threading.py\", line 989, in run\n",
      "    self._target(*self._args, **self._kwargs)\n",
      "  File \"/Users/chrisoosthuizen/projects/GraphCreator/src/GraphCreation/GraphCreation.py\", line 90, in _combine_one\n",
      "    list[position] = lp._combine_ontologies(ont1, ont2, sums, model_id=model_id)\n",
      "                     ^^^^^^^^^^^^^^^^^^^^^^^^^^^^^^^^^^^^^^^^^^^^^^^^^^^^^^^^^^^\n",
      "  File \"/Users/chrisoosthuizen/projects/GraphCreator/src/GraphCreation/LinkPrediction.py\", line 46, in _combine_ontologies\n",
      "    chunks = _one_switch(ont1)+_one_switch(ont2)\n",
      "                               ^^^^^^^^^^^^^^^^^\n",
      "  File \"/Users/chrisoosthuizen/projects/GraphCreator/src/GraphCreation/LinkPrediction.py\", line 62, in _one_switch\n",
      "    G.add_edge(objects[0], objects[2], label=objects[1])\n",
      "                           ~~~~~~~^^^\n",
      "IndexError: list index out of range\n"
     ]
    },
    {
     "ename": "KeyboardInterrupt",
     "evalue": "",
     "output_type": "error",
     "traceback": [
      "\u001b[0;31m---------------------------------------------------------------------------\u001b[0m",
      "\u001b[0;31mKeyboardInterrupt\u001b[0m                         Traceback (most recent call last)",
      "Cell \u001b[0;32mIn[3], line 2\u001b[0m\n\u001b[1;32m      1\u001b[0m \u001b[38;5;28;01mimport\u001b[39;00m \u001b[38;5;21;01mnetworkx\u001b[39;00m \u001b[38;5;28;01mas\u001b[39;00m \u001b[38;5;21;01mnx\u001b[39;00m\n\u001b[0;32m----> 2\u001b[0m chunks, g \u001b[38;5;241m=\u001b[39m\u001b[43mGraphCreation\u001b[49m\u001b[38;5;241;43m.\u001b[39;49m\u001b[43mcreate_KG_from_url\u001b[49m\u001b[43m(\u001b[49m\u001b[38;5;124;43m\"\u001b[39;49m\u001b[38;5;124;43mhttps://en.wikipedia.org/wiki/Knight_of_the_shire\u001b[39;49m\u001b[38;5;124;43m\"\u001b[39;49m\u001b[43m,\u001b[49m\u001b[43m \u001b[49m\u001b[43mchunks_precentage_linked\u001b[49m\u001b[38;5;241;43m=\u001b[39;49m\u001b[38;5;241;43m0\u001b[39;49m\u001b[43m,\u001b[49m\u001b[43m \u001b[49m\u001b[43meliminate_all_islands\u001b[49m\u001b[38;5;241;43m=\u001b[39;49m\u001b[38;5;28;43;01mFalse\u001b[39;49;00m\u001b[43m,\u001b[49m\u001b[43m \u001b[49m\u001b[43mnum\u001b[49m\u001b[38;5;241;43m=\u001b[39;49m\u001b[38;5;241;43m20\u001b[39;49m\u001b[43m,\u001b[49m\u001b[43m \u001b[49m\u001b[43minital_repeats\u001b[49m\u001b[38;5;241;43m=\u001b[39;49m\u001b[38;5;241;43m1\u001b[39;49m\u001b[43m,\u001b[49m\u001b[43m \u001b[49m\u001b[43mner\u001b[49m\u001b[38;5;241;43m=\u001b[39;49m\u001b[38;5;28;43;01mFalse\u001b[39;49;00m\u001b[43m,\u001b[49m\u001b[43m \u001b[49m\u001b[43mner_type\u001b[49m\u001b[38;5;241;43m=\u001b[39;49m\u001b[38;5;124;43m\"\u001b[39;49m\u001b[38;5;124;43mllm\u001b[39;49m\u001b[38;5;124;43m\"\u001b[39;49m\u001b[43m,\u001b[49m\u001b[43moutput_file\u001b[49m\u001b[38;5;241;43m=\u001b[39;49m\u001b[38;5;124;43m\"\u001b[39;49m\u001b[38;5;124;43m./animals\u001b[39;49m\u001b[38;5;124;43m\"\u001b[39;49m\u001b[43m)\u001b[49m\n",
      "File \u001b[0;32m~/projects/GraphCreator/src/GraphCreation/GraphCreation.py:238\u001b[0m, in \u001b[0;36mcreate_KG_from_url\u001b[0;34m(url, output_file, eliminate_all_islands, inital_repeats, chunks_precentage_linked, llm_formatting, ner, ner_type, num)\u001b[0m\n\u001b[1;32m    236\u001b[0m \u001b[38;5;28;01mdef\u001b[39;00m \u001b[38;5;21mcreate_KG_from_url\u001b[39m(url, output_file\u001b[38;5;241m=\u001b[39m\u001b[38;5;124m\"\u001b[39m\u001b[38;5;124m./output/\u001b[39m\u001b[38;5;124m\"\u001b[39m, eliminate_all_islands\u001b[38;5;241m=\u001b[39m\u001b[38;5;28;01mFalse\u001b[39;00m, inital_repeats\u001b[38;5;241m=\u001b[39m\u001b[38;5;241m2\u001b[39m, chunks_precentage_linked\u001b[38;5;241m=\u001b[39m\u001b[38;5;241m0.5\u001b[39m,llm_formatting\u001b[38;5;241m=\u001b[39m\u001b[38;5;28;01mTrue\u001b[39;00m, ner\u001b[38;5;241m=\u001b[39m\u001b[38;5;28;01mFalse\u001b[39;00m, ner_type\u001b[38;5;241m=\u001b[39m\u001b[38;5;124m\"\u001b[39m\u001b[38;5;124mflair\u001b[39m\u001b[38;5;124m\"\u001b[39m,num\u001b[38;5;241m=\u001b[39m\u001b[38;5;241m10\u001b[39m):\n\u001b[1;32m    237\u001b[0m     text \u001b[38;5;241m=\u001b[39m textformatting\u001b[38;5;241m.\u001b[39murl_to_md(url)\n\u001b[0;32m--> 238\u001b[0m     jsons \u001b[38;5;241m=\u001b[39m \u001b[43mcreate_KG_from_text\u001b[49m\u001b[43m(\u001b[49m\u001b[43mtext\u001b[49m\u001b[43m,\u001b[49m\u001b[43m \u001b[49m\u001b[43moutput_file\u001b[49m\u001b[43m,\u001b[49m\u001b[43m \u001b[49m\u001b[43meliminate_all_islands\u001b[49m\u001b[43m,\u001b[49m\u001b[43minital_repeats\u001b[49m\u001b[43m,\u001b[49m\u001b[43m \u001b[49m\u001b[43mchunks_precentage_linked\u001b[49m\u001b[43m,\u001b[49m\u001b[43m \u001b[49m\u001b[43mllm_formatting\u001b[49m\u001b[43m,\u001b[49m\u001b[43mner\u001b[49m\u001b[43m,\u001b[49m\u001b[43m \u001b[49m\u001b[43mner_type\u001b[49m\u001b[43m,\u001b[49m\u001b[43mnum\u001b[49m\u001b[43m)\u001b[49m\n\u001b[1;32m    239\u001b[0m     \u001b[38;5;28;01mreturn\u001b[39;00m jsons\n",
      "File \u001b[0;32m~/projects/GraphCreator/src/GraphCreation/GraphCreation.py:183\u001b[0m, in \u001b[0;36mcreate_KG_from_text\u001b[0;34m(text, output_file, eliminate_all_islands, inital_repeats, chunks_precentage_linked, llm_formatting, ner, ner_type, num)\u001b[0m\n\u001b[1;32m    181\u001b[0m \u001b[38;5;28;01melse\u001b[39;00m:\n\u001b[1;32m    182\u001b[0m     chunks \u001b[38;5;241m=\u001b[39m textformatting\u001b[38;5;241m.\u001b[39mchunk_text(text)\n\u001b[0;32m--> 183\u001b[0m \u001b[38;5;28;01mreturn\u001b[39;00m \u001b[43mcreate_KG_from_chunks\u001b[49m\u001b[43m(\u001b[49m\u001b[43mchunks\u001b[49m\u001b[43m,\u001b[49m\u001b[43m \u001b[49m\u001b[43moutput_file\u001b[49m\u001b[43m,\u001b[49m\u001b[43m \u001b[49m\u001b[43meliminate_all_islands\u001b[49m\u001b[43m,\u001b[49m\u001b[43m \u001b[49m\u001b[43minital_repeats\u001b[49m\u001b[43m,\u001b[49m\u001b[43m \u001b[49m\u001b[43mchunks_precentage_linked\u001b[49m\u001b[43m,\u001b[49m\u001b[43m \u001b[49m\u001b[43mner\u001b[49m\u001b[43m,\u001b[49m\u001b[43m \u001b[49m\u001b[43mner_type\u001b[49m\u001b[43m,\u001b[49m\u001b[43mnum\u001b[49m\u001b[43m)\u001b[49m\n",
      "File \u001b[0;32m~/projects/GraphCreator/src/GraphCreation/GraphCreation.py:202\u001b[0m, in \u001b[0;36mcreate_KG_from_chunks\u001b[0;34m(chunks, output_file, eliminate_all_islands, inital_repeats, chunks_precentage_linked, ner, ner_type, num)\u001b[0m\n\u001b[1;32m    200\u001b[0m     os\u001b[38;5;241m.\u001b[39mmakedirs(output_file)\n\u001b[1;32m    201\u001b[0m repeats \u001b[38;5;241m=\u001b[39m chunks_precentage_linked\n\u001b[0;32m--> 202\u001b[0m jsons \u001b[38;5;241m=\u001b[39m \u001b[43m_create_kg\u001b[49m\u001b[43m(\u001b[49m\u001b[43mchunks\u001b[49m\u001b[38;5;241;43m=\u001b[39;49m\u001b[43mchunks\u001b[49m\u001b[43m,\u001b[49m\u001b[43m \u001b[49m\u001b[43mconverge\u001b[49m\u001b[38;5;241;43m=\u001b[39;49m\u001b[43meliminate_all_islands\u001b[49m\u001b[43m,\u001b[49m\u001b[43m \u001b[49m\u001b[43mrepeats\u001b[49m\u001b[38;5;241;43m=\u001b[39;49m\u001b[43mrepeats\u001b[49m\u001b[43m,\u001b[49m\u001b[43m \u001b[49m\u001b[43minital_repeats\u001b[49m\u001b[38;5;241;43m=\u001b[39;49m\u001b[43minital_repeats\u001b[49m\u001b[43m,\u001b[49m\u001b[43m \u001b[49m\u001b[43mner\u001b[49m\u001b[38;5;241;43m=\u001b[39;49m\u001b[43mner\u001b[49m\u001b[43m,\u001b[49m\u001b[43m \u001b[49m\u001b[43mner_type\u001b[49m\u001b[38;5;241;43m=\u001b[39;49m\u001b[43mner_type\u001b[49m\u001b[43m,\u001b[49m\u001b[43mnum\u001b[49m\u001b[38;5;241;43m=\u001b[39;49m\u001b[43mnum\u001b[49m\u001b[43m)\u001b[49m\n\u001b[1;32m    203\u001b[0m Graph \u001b[38;5;241m=\u001b[39m nx\u001b[38;5;241m.\u001b[39mGraph()\n\u001b[1;32m    204\u001b[0m \u001b[38;5;28;01mfor\u001b[39;00m x \u001b[38;5;129;01min\u001b[39;00m jsons:\n",
      "File \u001b[0;32m~/projects/GraphCreator/src/GraphCreation/GraphCreation.py:150\u001b[0m, in \u001b[0;36m_create_kg\u001b[0;34m(chunks, repeats, converge, inital_repeats, ner, ner_type, num)\u001b[0m\n\u001b[1;32m    148\u001b[0m combinations \u001b[38;5;241m=\u001b[39m new_combinations\n\u001b[1;32m    149\u001b[0m summaries \u001b[38;5;241m=\u001b[39m new_summaries\n\u001b[0;32m--> 150\u001b[0m combinations, summaries \u001b[38;5;241m=\u001b[39m \u001b[43m_converge_lists\u001b[49m\u001b[43m(\u001b[49m\u001b[43mcombinations\u001b[49m\u001b[43m,\u001b[49m\u001b[43m \u001b[49m\u001b[43msummaries\u001b[49m\u001b[43m,\u001b[49m\u001b[43m \u001b[49m\u001b[43mrepeats\u001b[49m\u001b[38;5;241;43m=\u001b[39;49m\u001b[43mrepeats\u001b[49m\u001b[43m)\u001b[49m\n\u001b[1;32m    151\u001b[0m \u001b[38;5;28;01mif\u001b[39;00m converge:\n\u001b[1;32m    152\u001b[0m     \u001b[38;5;28;01mwhile\u001b[39;00m \u001b[38;5;28mlen\u001b[39m(lp\u001b[38;5;241m.\u001b[39m_ontologies_to_unconnected(combinations[\u001b[38;5;241m0\u001b[39m], combinations[\u001b[38;5;241m0\u001b[39m])) \u001b[38;5;241m>\u001b[39m \u001b[38;5;241m1\u001b[39m:\n",
      "File \u001b[0;32m~/projects/GraphCreator/src/GraphCreation/GraphCreation.py:109\u001b[0m, in \u001b[0;36m_converge_lists\u001b[0;34m(lists, summaries, repeats)\u001b[0m\n\u001b[1;32m    107\u001b[0m     summaries[\u001b[38;5;241m-\u001b[39m\u001b[38;5;241m1\u001b[39m] \u001b[38;5;241m=\u001b[39m old_summaries[\u001b[38;5;241m-\u001b[39m\u001b[38;5;241m1\u001b[39m]\n\u001b[1;32m    108\u001b[0m \u001b[38;5;28;01mfor\u001b[39;00m thread \u001b[38;5;129;01min\u001b[39;00m threads:\n\u001b[0;32m--> 109\u001b[0m     \u001b[43mthread\u001b[49m\u001b[38;5;241;43m.\u001b[39;49m\u001b[43mjoin\u001b[49m\u001b[43m(\u001b[49m\u001b[43m)\u001b[49m\n\u001b[1;32m    110\u001b[0m \u001b[38;5;28;01mreturn\u001b[39;00m combinations, summaries\n",
      "File \u001b[0;32m/Library/Frameworks/Python.framework/Versions/3.12/lib/python3.12/threading.py:1126\u001b[0m, in \u001b[0;36mThread.join\u001b[0;34m(self, timeout)\u001b[0m\n\u001b[1;32m   1123\u001b[0m     \u001b[38;5;28;01mraise\u001b[39;00m \u001b[38;5;167;01mRuntimeError\u001b[39;00m(\u001b[38;5;124m\"\u001b[39m\u001b[38;5;124mcannot join current thread\u001b[39m\u001b[38;5;124m\"\u001b[39m)\n\u001b[1;32m   1125\u001b[0m \u001b[38;5;28;01mif\u001b[39;00m timeout \u001b[38;5;129;01mis\u001b[39;00m \u001b[38;5;28;01mNone\u001b[39;00m:\n\u001b[0;32m-> 1126\u001b[0m     \u001b[38;5;28;43mself\u001b[39;49m\u001b[38;5;241;43m.\u001b[39;49m\u001b[43m_wait_for_tstate_lock\u001b[49m\u001b[43m(\u001b[49m\u001b[43m)\u001b[49m\n\u001b[1;32m   1127\u001b[0m \u001b[38;5;28;01melse\u001b[39;00m:\n\u001b[1;32m   1128\u001b[0m     \u001b[38;5;66;03m# the behavior of a negative timeout isn't documented, but\u001b[39;00m\n\u001b[1;32m   1129\u001b[0m     \u001b[38;5;66;03m# historically .join(timeout=x) for x<0 has acted as if timeout=0\u001b[39;00m\n\u001b[1;32m   1130\u001b[0m     \u001b[38;5;28mself\u001b[39m\u001b[38;5;241m.\u001b[39m_wait_for_tstate_lock(timeout\u001b[38;5;241m=\u001b[39m\u001b[38;5;28mmax\u001b[39m(timeout, \u001b[38;5;241m0\u001b[39m))\n",
      "File \u001b[0;32m/Library/Frameworks/Python.framework/Versions/3.12/lib/python3.12/threading.py:1146\u001b[0m, in \u001b[0;36mThread._wait_for_tstate_lock\u001b[0;34m(self, block, timeout)\u001b[0m\n\u001b[1;32m   1143\u001b[0m     \u001b[38;5;28;01mreturn\u001b[39;00m\n\u001b[1;32m   1145\u001b[0m \u001b[38;5;28;01mtry\u001b[39;00m:\n\u001b[0;32m-> 1146\u001b[0m     \u001b[38;5;28;01mif\u001b[39;00m \u001b[43mlock\u001b[49m\u001b[38;5;241;43m.\u001b[39;49m\u001b[43macquire\u001b[49m\u001b[43m(\u001b[49m\u001b[43mblock\u001b[49m\u001b[43m,\u001b[49m\u001b[43m \u001b[49m\u001b[43mtimeout\u001b[49m\u001b[43m)\u001b[49m:\n\u001b[1;32m   1147\u001b[0m         lock\u001b[38;5;241m.\u001b[39mrelease()\n\u001b[1;32m   1148\u001b[0m         \u001b[38;5;28mself\u001b[39m\u001b[38;5;241m.\u001b[39m_stop()\n",
      "\u001b[0;31mKeyboardInterrupt\u001b[0m: "
     ]
    }
   ],
   "source": [
    "import networkx as nx\n",
    "chunks, g =GraphCreation.create_KG_from_url(\"https://en.wikipedia.org/wiki/Knight_of_the_shire\", chunks_precentage_linked=0, eliminate_all_islands=False, num=20, inital_repeats=1, ner=False, ner_type=\"llm\",output_file=\"./animals\")"
   ]
  },
  {
   "cell_type": "code",
   "execution_count": 7,
   "metadata": {},
   "outputs": [
    {
     "data": {
      "text/plain": [
       "'The Knights of the Shire were representatives of the county in the English Parliament during the medieval and early modern periods. The term \"Knights of the Shire\" refers to long-serving conservative backbenchers and is often used in journalese. \\n\\nThe representation of the people act 1832 increased the number of knights in some counties, such as Yorkshire, to four. The method of choosing knights varied by county, and the role of knights became outdated over time. The term \"knights\" eventually died out during the 20th century due to the destruction of counties and the rapid decline in their significance.\\n\\nA knight was typically affiliated with a shire, which is a region or territory that is also known as a county. The concept of a knight of the shire is explained in articles that list information about them, such as their history and role in Parliament.'"
      ]
     },
     "execution_count": 7,
     "metadata": {},
     "output_type": "execute_result"
    }
   ],
   "source": [
    "from src import LLMFunctions as llm\n",
    "llm.graphquestions(g, \"tell me about the knights of the shire\")"
   ]
  },
  {
   "cell_type": "code",
   "execution_count": 7,
   "metadata": {},
   "outputs": [
    {
     "name": "stdout",
     "output_type": "stream",
     "text": [
      "Number of chunks: 6\n",
      "./rights/graph.html\n",
      "./rights/clustered_graph.html\n"
     ]
    }
   ],
   "source": [
    "import networkx as nx\n",
    "chunks, g =GraphCreation.create_KG_from_pdf(\"/Users/chrisoosthuizen/projects/GraphCreator/NathanLeeResumeWinter2023 - Google Docs (1).pdf\", chunks_precentage_linked=0, eliminate_all_islands=False, num=20, inital_repeats=10, ner=True, ner_type=\"llm\",output_file=\"./rights\")"
   ]
  },
  {
   "cell_type": "code",
   "execution_count": 4,
   "metadata": {},
   "outputs": [],
   "source": [
    "import networkx as nx\n",
    "g = nx.read_graphml(\"./animals/graph.graphml\")"
   ]
  },
  {
   "cell_type": "code",
   "execution_count": 8,
   "metadata": {},
   "outputs": [
    {
     "data": {
      "text/plain": [
       "'The \"knights of the shire,\" also known as \"knights of the shire and county,\" were a key part of England\\'s parliamentary system in the medieval and early modern periods. These knights were representatives elected by the landowning, or \"freeholder,\" population of each shire (county) to serve in the Parliament of England, particularly in the House of Commons. Here are some key points about them:\\n\\n1. **Historical Background**: The tradition of electing knights to represent shires dates back to the 13th century during the reign of King Edward I. Specifically, it is often associated with the Model Parliament of 1295, which called for representatives from each shire and borough.\\n\\n2. **Role in Parliament**: The primary function of the knights of the shire was to represent the interests of their shires in the House of Commons. They played a crucial role in discussing and consenting to taxes and legislation that affected the realm.\\n\\n3. **Eligibility and Election**: Originally, to be eligible for election as a knight of the shire, a candidate needed to be a substantial landowner, typically a knight by social status, though not necessarily knighted. In early years, all freeholders who held land worth at least 40 shillings annually (a significant amount at the time) could vote in these elections. \\n\\n4. **Representation**: Each shire typically sent two knights to Parliament, although this number could vary. Some larger or more significant counties had more representation.\\n\\n5. **Impact on Governance**: The inclusion of knights of the shire in Parliament marked a significant development in English governance, reflecting broader representation beyond the nobility and clergy. Their participation underscored the increasing importance of commoners (albeit still a wealthy and influential subset) in the legislative process.\\n\\n6. **Evolution Over Time**: Over the centuries, the role and influence of the knights of the shire evolved, especially as parliamentary democracy further developed. By the time of the reforms in the 19th century, like the Reform Act 1832, the nature of representation and electoral systems had become more complex and inclusive, changing the landscape of parliamentary representation.\\n\\nThe knights of the shire played a foundational role in the development of a more representative and structured parliamentary system in England, contributing to the gradual evolution of more democratic forms of governance.'"
      ]
     },
     "execution_count": 8,
     "metadata": {},
     "output_type": "execute_result"
    }
   ],
   "source": [
    "llm.generate_chat_response(\"\",\"Tell me about the knights of the shire\")"
   ]
  },
  {
   "cell_type": "code",
   "execution_count": null,
   "metadata": {},
   "outputs": [],
   "source": []
  }
 ],
 "metadata": {
  "kernelspec": {
   "display_name": "Python 3",
   "language": "python",
   "name": "python3"
  },
  "language_info": {
   "codemirror_mode": {
    "name": "ipython",
    "version": 3
   },
   "file_extension": ".py",
   "mimetype": "text/x-python",
   "name": "python",
   "nbconvert_exporter": "python",
   "pygments_lexer": "ipython3",
   "version": "3.12.0"
  }
 },
 "nbformat": 4,
 "nbformat_minor": 2
}
