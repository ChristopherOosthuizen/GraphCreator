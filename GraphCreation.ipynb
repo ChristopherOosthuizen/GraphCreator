{
 "cells": [
  {
   "cell_type": "code",
   "execution_count": 1,
   "metadata": {},
   "outputs": [
    {
     "name": "stdout",
     "output_type": "stream",
     "text": [
      "Note: to be able to use all crisp methods, you need to install some additional packages:  {'wurlitzer', 'graph_tool', 'bayanpy', 'infomap'}\n",
      "Note: to be able to use all crisp methods, you need to install some additional packages:  {'pyclustering', 'ASLPAw'}\n",
      "Note: to be able to use all crisp methods, you need to install some additional packages:  {'wurlitzer', 'infomap'}\n"
     ]
    }
   ],
   "source": [
    "from src import GraphCreation"
   ]
  },
  {
   "cell_type": "code",
   "execution_count": 2,
   "metadata": {},
   "outputs": [],
   "source": [
    "import os\n",
    "os.environ['OPENAI_API_KEY']= \"\""
   ]
  },
  {
   "cell_type": "code",
   "execution_count": 3,
   "metadata": {},
   "outputs": [
    {
     "name": "stdout",
     "output_type": "stream",
     "text": [
      "Number of chunks: 35\n",
      "edward iii,death in,1377\n",
      "w,is a type of,encyclopedia\n",
      "burgess,type of,mp\n",
      "citizen,type of,mp\n",
      "baron,type of,mp\n",
      "baron,represents,cin\n",
      "knights of the shire,represents constituency,shire\n",
      "count,has qualification,residence\n",
      "par,decided to legislate about,count\n",
      "the,was declared by,par\n",
      "commons,has,representative voice\n",
      "representative voice,role of,s\n",
      "s,created an office for,commons\n",
      "mare,released after,phrase\n",
      "charles seymour,suggested,probable voting by free inhabitants\n",
      "author,consider,fort\n",
      "\n",
      "kn,means,mp\n",
      "kn,in the,brit\n",
      "latin,alternate name,mil\n",
      "freehold,in located in,county\n",
      "voter,resides in,county\n",
      "e,crowded by,persons\n",
      "confusion,resulted from,e\n",
      "suffrage,limited to,persons qualified\n",
      "redis,destroyed,counties\n",
      "re,widened,electorate\n",
      "redis,mentioned,re\n",
      "third,incorporated in,re\n",
      "knights,chosen by,county\n",
      "1832 act,increased number of,knights\n",
      "counties,sent,knights\n",
      "knights,could number up to,six\n",
      "par,legislated,uniform county franchise\n",
      "elect,contained,8\n",
      "8,is part of,orso\n",
      "act,split,shire\n",
      "shire,divided into,single-seat divisions\n",
      "act,standardized,franchise\n",
      "act,affected,county\n",
      "act,affected,borough\n",
      "mont,includes,members\n",
      "the,has legislative power in,129\n",
      "ed,split,par\n",
      "y,in 1826,increased knights to four\n",
      "county,before 1832,sent two knights\n",
      "representation,changed representation of,counties\n",
      "143,preceded,elections\n",
      "fort,described by,char\n",
      "county,is part of,med\n",
      "shire,is part of,med\n",
      "redis,ended practice of,county forming single constituency\n",
      "redis,ended practice of,shire forming single constituency\n",
      "borough,differ slightly,boundaries\n",
      "borough,concern,election expenses\n",
      "borough,involves,returning officerborough,depend on,election expenses\n",
      "borough constituencies,have,returning officer\n",
      "third,mentioned in,1884\n",
      "representation,passed in,1918\n",
      "20,occurred during,century\n",
      "members,represent,county\n",
      "gr,part of,borough\n",
      "gr,affected by,representation\n",
      "counties,have,populations\n",
      "counties,sent,knights\n",
      "larger populations,sent more,knights\n",
      "redis,split,counties\n",
      "shire,has more prestige than,burg\n",
      "shir,part of,par\n",
      "burg,part of,par\n",
      "burg,active in,shir\n",
      "kn,implied,ight\n",
      "w,referred to,belt\n",
      "belt,existed until,19\n",
      "belt,existed by,14\n",
      "lords,complaints about,taxes\n",
      "lords,demands for,accounting of royal expenditures\n",
      "lords,criticism of,management of the military\n",
      "de la mare,was imprisoned for,his actions\n",
      "th,part of,the king\n",
      "council,evolved in,in\n",
      "council,evolved to include,representatives\n",
      "representatives,come from,boroughs\n",
      "members,must be,electedboroughs,include,burgesses\n",
      "burgesses,represent,boroughs\n",
      "council,must include,burgesses\n",
      "members,come from,counties\n",
      "summoning,is done by,the king\n",
      "the king,summons,representatives\n",
      "house,part of,par\n",
      "of,part of,par\n",
      "sir,appointed by,137\n",
      "sir,convey complaints to,lordshouse,includes,house of commons\n",
      "house,includes,house of lords\n",
      "par,has structure,bicameral\n",
      "par,includes,house of commons\n",
      "par,includes,house of lords\n",
      "lords,part of,par\n",
      "gent,have estates sufficient to be,kn\n",
      "not,have estates sufficient to be,kndegree,by no means of,yeoman\n",
      "gent,opposite of,yeoman\n",
      "not,opposite of,yeomangent,is type of,not\n",
      "kn,is type of,not\n",
      "the,used in,journal\n",
      "the,describes,members\n",
      "members,are,conservative backbenchers\n",
      "conservative backbenchers,have,knthe,features as,journalese\n",
      "journalese,describes,elderly members\n",
      "elderly members,are,members\n",
      "conservative backbenchers,often have,kn\n",
      "conservative backbenchers,have,long service\n",
      "represent,pertain to,county constituencies'no longer represent',pertain to,whole countycounty,represented by,who\n",
      "whole county,represented by,who\n",
      "elect,amended,1430 law\n",
      "elect,clarified,forty-shilling freehold\n",
      "forty-shilling freehold,required by,elect\n",
      "county,contains,forty-shilling freeholdelect,amended,hen\n",
      "elect,covers,county\n",
      "elect,requires,residency\n",
      "forty-shilling freehold,owned by,resident\n",
      "resident,required by,elect\n",
      "sim,established,par\n",
      "par,established in,126\n",
      "shire,sent,knights\n",
      "knights,number fixed until,182\n",
      "y,gained additional,knights\n",
      "disfranchisement of gr,led to additional,y knights126,is a year of,sim\n",
      "126,occurred in,13th century\n",
      "182,is a year in,19th century\n",
      "182,related to,182 parliamentary reforms\n",
      "gr,disfranchised in,182\n",
      "knights,representation increased in,182\n",
      "par,first held in,126\n",
      "mag,precedes,english parliamentary system\n",
      "mag,is a type of,great council\n",
      "great council,provides advice to,king\n",
      "mag,consists of,peers\n",
      "mag,consists of,ecclesiastics\n",
      "mag,consists of,knights of the shireking,heads,english parliamentary system\n",
      "knights of the shire,are members of,english parliamentary system\n",
      "peers,are members of,english parliamentary system\n",
      "ecclesiastics,are members of,english parliamentary system\n",
      "great council,composed of,peers\n",
      "great council,composed of,ecclesiastics\n",
      "great council,composed of,knights of the shire\n",
      "con,represents,backbenchers\n",
      "backbenchers,represent,rural constituencies\n",
      "rural constituencies,located in,eng\n",
      "rural constituencies,located in,wcon,represents,backbenchers\n",
      "backbenchers,represent,rural constituencies\n",
      "rural constituencies,located in,eng\n",
      "rural constituencies,located in,w\n",
      "kight of the shire,used for,senior backbencherscon,represents,backbenchers\n",
      "backbenchers,represent,rural constituencies\n",
      "knight of the shire,used for,senior backbenchers\n",
      "rural constituencies,located in,eng\n",
      "rural constituencies,located in,w\n",
      "senior backbenchers,represent,rural constituencies\n",
      "men,elected in,14\n",
      "henry vi,passed act,23\n",
      "election,restricted to,knights\n",
      "knights,include,esquires14th century,seen in,14\n",
      "23,involves,henry vi\n",
      "23,related to,14 c. 14\n",
      "act,created by,henry vi\n",
      "election,allows,notable esquires\n",
      "notable esquires,eligible for,election14th century,seen in,14\n",
      "23,created by,henry vi\n",
      "23,involves,henry vi\n",
      "23,related to,14 c. 14\n",
      "act,created by,henry vi\n",
      "election,allows,notable esquires\n",
      "election,restricted to,knights\n",
      "henry vi,passed act,23\n",
      "knights,include,esquires\n",
      "men,elected in,14\n",
      "notable esquires,eligible for,election\n",
      "./animals/graph.html\n",
      "./animals/clustered_graph.html\n"
     ]
    }
   ],
   "source": [
    "import networkx as nx\n",
    "chunks, g =GraphCreation.create_KG_from_url(\"https://en.wikipedia.org/wiki/Knight_of_the_shire\", chunks_precentage_linked=0, eliminate_all_islands=False, num=20,llm_formatting=False, inital_repeats=30, ner=False, ner_type=\"llm\",output_file=\"./animals\")"
   ]
  },
  {
   "cell_type": "code",
   "execution_count": 7,
   "metadata": {},
   "outputs": [
    {
     "data": {
      "text/plain": [
       "'The Knights of the Shire were representatives of the county in the English Parliament during the medieval and early modern periods. The term \"Knights of the Shire\" refers to long-serving conservative backbenchers and is often used in journalese. \\n\\nThe representation of the people act 1832 increased the number of knights in some counties, such as Yorkshire, to four. The method of choosing knights varied by county, and the role of knights became outdated over time. The term \"knights\" eventually died out during the 20th century due to the destruction of counties and the rapid decline in their significance.\\n\\nA knight was typically affiliated with a shire, which is a region or territory that is also known as a county. The concept of a knight of the shire is explained in articles that list information about them, such as their history and role in Parliament.'"
      ]
     },
     "execution_count": 7,
     "metadata": {},
     "output_type": "execute_result"
    }
   ],
   "source": [
    "from src import LLMFunctions as llm\n",
    "llm.graphquestions(g, \"tell me about the knights of the shire\")"
   ]
  },
  {
   "cell_type": "code",
   "execution_count": 7,
   "metadata": {},
   "outputs": [
    {
     "name": "stdout",
     "output_type": "stream",
     "text": [
      "Number of chunks: 6\n",
      "./rights/graph.html\n",
      "./rights/clustered_graph.html\n"
     ]
    }
   ],
   "source": [
    "import networkx as nx\n",
    "chunks, g =GraphCreation.create_KG_from_pdf(\"/Users/chrisoosthuizen/projects/GraphCreator/NathanLeeResumeWinter2023 - Google Docs (1).pdf\", chunks_precentage_linked=0, eliminate_all_islands=False, num=20, inital_repeats=10, ner=True, ner_type=\"llm\",output_file=\"./rights\")"
   ]
  },
  {
   "cell_type": "code",
   "execution_count": 4,
   "metadata": {},
   "outputs": [],
   "source": [
    "import networkx as nx\n",
    "g = nx.read_graphml(\"./animals/graph.graphml\")"
   ]
  },
  {
   "cell_type": "code",
   "execution_count": 8,
   "metadata": {},
   "outputs": [
    {
     "data": {
      "text/plain": [
       "'The \"knights of the shire,\" also known as \"knights of the shire and county,\" were a key part of England\\'s parliamentary system in the medieval and early modern periods. These knights were representatives elected by the landowning, or \"freeholder,\" population of each shire (county) to serve in the Parliament of England, particularly in the House of Commons. Here are some key points about them:\\n\\n1. **Historical Background**: The tradition of electing knights to represent shires dates back to the 13th century during the reign of King Edward I. Specifically, it is often associated with the Model Parliament of 1295, which called for representatives from each shire and borough.\\n\\n2. **Role in Parliament**: The primary function of the knights of the shire was to represent the interests of their shires in the House of Commons. They played a crucial role in discussing and consenting to taxes and legislation that affected the realm.\\n\\n3. **Eligibility and Election**: Originally, to be eligible for election as a knight of the shire, a candidate needed to be a substantial landowner, typically a knight by social status, though not necessarily knighted. In early years, all freeholders who held land worth at least 40 shillings annually (a significant amount at the time) could vote in these elections. \\n\\n4. **Representation**: Each shire typically sent two knights to Parliament, although this number could vary. Some larger or more significant counties had more representation.\\n\\n5. **Impact on Governance**: The inclusion of knights of the shire in Parliament marked a significant development in English governance, reflecting broader representation beyond the nobility and clergy. Their participation underscored the increasing importance of commoners (albeit still a wealthy and influential subset) in the legislative process.\\n\\n6. **Evolution Over Time**: Over the centuries, the role and influence of the knights of the shire evolved, especially as parliamentary democracy further developed. By the time of the reforms in the 19th century, like the Reform Act 1832, the nature of representation and electoral systems had become more complex and inclusive, changing the landscape of parliamentary representation.\\n\\nThe knights of the shire played a foundational role in the development of a more representative and structured parliamentary system in England, contributing to the gradual evolution of more democratic forms of governance.'"
      ]
     },
     "execution_count": 8,
     "metadata": {},
     "output_type": "execute_result"
    }
   ],
   "source": [
    "llm.generate_chat_response(\"\",\"Tell me about the knights of the shire\")"
   ]
  },
  {
   "cell_type": "code",
   "execution_count": 5,
   "metadata": {},
   "outputs": [
    {
     "data": {
      "text/plain": [
       "{'research': 'research',\n",
       " 'token': 'token',\n",
       " 'person': 'person who is a thing',\n",
       " 'queen': 'queen of england',\n",
       " 'just': 'justopostion'}"
      ]
     },
     "execution_count": 5,
     "metadata": {},
     "output_type": "execute_result"
    }
   ],
   "source": [
    "GraphCreation.textformatting.token_compression([\"research\", \"token\",\"person who is a thing\", \"queen of england\", \"justopostion\"])"
   ]
  },
  {
   "cell_type": "code",
   "execution_count": null,
   "metadata": {},
   "outputs": [],
   "source": []
  }
 ],
 "metadata": {
  "kernelspec": {
   "display_name": "Python 3",
   "language": "python",
   "name": "python3"
  },
  "language_info": {
   "codemirror_mode": {
    "name": "ipython",
    "version": 3
   },
   "file_extension": ".py",
   "mimetype": "text/x-python",
   "name": "python",
   "nbconvert_exporter": "python",
   "pygments_lexer": "ipython3",
   "version": "3.12.0"
  }
 },
 "nbformat": 4,
 "nbformat_minor": 2
}
