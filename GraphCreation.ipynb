{
 "cells": [
  {
   "cell_type": "code",
   "execution_count": 1,
   "metadata": {},
   "outputs": [
    {
     "name": "stdout",
     "output_type": "stream",
     "text": [
      "Note: to be able to use all crisp methods, you need to install some additional packages:  {'wurlitzer', 'bayanpy', 'infomap', 'graph_tool'}\n",
      "Note: to be able to use all crisp methods, you need to install some additional packages:  {'pyclustering', 'ASLPAw'}\n",
      "Note: to be able to use all crisp methods, you need to install some additional packages:  {'wurlitzer', 'infomap'}\n"
     ]
    }
   ],
   "source": [
    "from src import GraphCreation"
   ]
  },
  {
   "cell_type": "code",
   "execution_count": 2,
   "metadata": {},
   "outputs": [],
   "source": [
    "import os\n",
    "os.environ['OPENAI_API_KEY']= open(\"api_key\",\"r\").read().strip()"
   ]
  },
  {
   "cell_type": "code",
   "execution_count": 3,
   "metadata": {},
   "outputs": [],
   "source": [
    "os.environ['TOKENIZERS_PARALLELISM'] = \"true\""
   ]
  },
  {
   "cell_type": "code",
   "execution_count": 4,
   "metadata": {},
   "outputs": [
    {
     "name": "stdout",
     "output_type": "stream",
     "text": [
      "Number of chunks: 296\n",
      "['']\n",
      "['']\n",
      "['']\n",
      "['']\n",
      "['']\n",
      "['']\n",
      "['']\n",
      "['']\n",
      "['']\n",
      "['']\n",
      "['']\n",
      "['']\n",
      "['']\n",
      "['']\n",
      "./animals/graph.html\n",
      "./animals/clustered_graph.html\n"
     ]
    }
   ],
   "source": [
    "import networkx as nx\n",
    "chunks, g =GraphCreation.create_KG_from_url(\"https://en.wikipedia.org/wiki/Leonardo_DiCaprio#:~:text=DiCaprio%20(disambiguation).-,Leonardo%20DiCaprio,-DiCaprio%20in%202015\", chunks_precentage_linked=0, eliminate_all_islands=False, num=5,llm_formatting=False, inital_repeats=30, ner=False, ner_type=\"llm\",output_file=\"./animals\")"
   ]
  },
  {
   "cell_type": "code",
   "execution_count": 5,
   "metadata": {},
   "outputs": [
    {
     "data": {
      "text/plain": [
       "\"I'm sorry, but Leonardo DiCaprio does not have any children as of now.\""
      ]
     },
     "execution_count": 5,
     "metadata": {},
     "output_type": "execute_result"
    }
   ],
   "source": [
    "GraphCreation.LLM.graphquestions(g,\"what is the name of leonardo DiCaprios third child?\")"
   ]
  },
  {
   "cell_type": "code",
   "execution_count": 4,
   "metadata": {},
   "outputs": [
    {
     "data": {
      "text/plain": [
       "\"hello! i'm just a computer program, so i don't have feelings, but i'm here and ready to help you. how can i assist you today?\""
      ]
     },
     "execution_count": 4,
     "metadata": {},
     "output_type": "execute_result"
    }
   ],
   "source": [
    "GraphCreation.LLM.generate_chat_response(\"\",\"hello how are you?\")"
   ]
  },
  {
   "cell_type": "code",
   "execution_count": 7,
   "metadata": {},
   "outputs": [
    {
     "data": {
      "text/plain": [
       "'The Knights of the Shire were representatives of the county in the English Parliament during the medieval and early modern periods. The term \"Knights of the Shire\" refers to long-serving conservative backbenchers and is often used in journalese. \\n\\nThe representation of the people act 1832 increased the number of knights in some counties, such as Yorkshire, to four. The method of choosing knights varied by county, and the role of knights became outdated over time. The term \"knights\" eventually died out during the 20th century due to the destruction of counties and the rapid decline in their significance.\\n\\nA knight was typically affiliated with a shire, which is a region or territory that is also known as a county. The concept of a knight of the shire is explained in articles that list information about them, such as their history and role in Parliament.'"
      ]
     },
     "execution_count": 7,
     "metadata": {},
     "output_type": "execute_result"
    }
   ],
   "source": [
    "from src import LLMFunctions as llm\n",
    "llm.graphquestions(g, \"tell me about the knights of the shire\")"
   ]
  },
  {
   "cell_type": "code",
   "execution_count": 7,
   "metadata": {},
   "outputs": [
    {
     "name": "stdout",
     "output_type": "stream",
     "text": [
      "Number of chunks: 6\n",
      "./rights/graph.html\n",
      "./rights/clustered_graph.html\n"
     ]
    }
   ],
   "source": [
    "import networkx as nx\n",
    "chunks, g =GraphCreation.create_KG_from_pdf(\"/Users/chrisoosthuizen/projects/GraphCreator/NathanLeeResumeWinter2023 - Google Docs (1).pdf\", chunks_precentage_linked=0, eliminate_all_islands=False, num=20, inital_repeats=10, ner=True, ner_type=\"llm\",output_file=\"./rights\")"
   ]
  },
  {
   "cell_type": "code",
   "execution_count": 4,
   "metadata": {},
   "outputs": [],
   "source": [
    "import networkx as nx\n",
    "g = nx.read_graphml(\"./animals/graph.graphml\")"
   ]
  },
  {
   "cell_type": "code",
   "execution_count": 8,
   "metadata": {},
   "outputs": [
    {
     "data": {
      "text/plain": [
       "'The \"knights of the shire,\" also known as \"knights of the shire and county,\" were a key part of England\\'s parliamentary system in the medieval and early modern periods. These knights were representatives elected by the landowning, or \"freeholder,\" population of each shire (county) to serve in the Parliament of England, particularly in the House of Commons. Here are some key points about them:\\n\\n1. **Historical Background**: The tradition of electing knights to represent shires dates back to the 13th century during the reign of King Edward I. Specifically, it is often associated with the Model Parliament of 1295, which called for representatives from each shire and borough.\\n\\n2. **Role in Parliament**: The primary function of the knights of the shire was to represent the interests of their shires in the House of Commons. They played a crucial role in discussing and consenting to taxes and legislation that affected the realm.\\n\\n3. **Eligibility and Election**: Originally, to be eligible for election as a knight of the shire, a candidate needed to be a substantial landowner, typically a knight by social status, though not necessarily knighted. In early years, all freeholders who held land worth at least 40 shillings annually (a significant amount at the time) could vote in these elections. \\n\\n4. **Representation**: Each shire typically sent two knights to Parliament, although this number could vary. Some larger or more significant counties had more representation.\\n\\n5. **Impact on Governance**: The inclusion of knights of the shire in Parliament marked a significant development in English governance, reflecting broader representation beyond the nobility and clergy. Their participation underscored the increasing importance of commoners (albeit still a wealthy and influential subset) in the legislative process.\\n\\n6. **Evolution Over Time**: Over the centuries, the role and influence of the knights of the shire evolved, especially as parliamentary democracy further developed. By the time of the reforms in the 19th century, like the Reform Act 1832, the nature of representation and electoral systems had become more complex and inclusive, changing the landscape of parliamentary representation.\\n\\nThe knights of the shire played a foundational role in the development of a more representative and structured parliamentary system in England, contributing to the gradual evolution of more democratic forms of governance.'"
      ]
     },
     "execution_count": 8,
     "metadata": {},
     "output_type": "execute_result"
    }
   ],
   "source": [
    "llm.generate_chat_response(\"\",\"Tell me about the knights of the shire\")"
   ]
  },
  {
   "cell_type": "code",
   "execution_count": 5,
   "metadata": {},
   "outputs": [
    {
     "data": {
      "text/plain": [
       "{'research': 'research',\n",
       " 'token': 'token',\n",
       " 'person': 'person who is a thing',\n",
       " 'queen': 'queen of england',\n",
       " 'just': 'justopostion'}"
      ]
     },
     "execution_count": 5,
     "metadata": {},
     "output_type": "execute_result"
    }
   ],
   "source": [
    "GraphCreation.textformatting.token_compression([\"research\", \"token\",\"person who is a thing\", \"queen of england\", \"justopostion\"])"
   ]
  },
  {
   "cell_type": "code",
   "execution_count": 13,
   "metadata": {},
   "outputs": [],
   "source": [
    "from llmlingua import PromptCompressor\n",
    "import torch \n",
    "torch.set_default_device(\"mps\")\n",
    "llm_lingua = PromptCompressor(\n",
    "    model_name=\"microsoft/llmlingua-2-xlm-roberta-large-meetingbank\",\n",
    "    use_llmlingua2=True,\n",
    "    device_map=\"mps\"\n",
    ")"
   ]
  },
  {
   "cell_type": "code",
   "execution_count": 20,
   "metadata": {},
   "outputs": [
    {
     "data": {
      "text/plain": [
       "'Knight of shire (Latin milites comitatus formal title for member parliament representing county constituency British House of Commons origins medieval Parliament until Redistribution of Seats Act 1885 ended single constituency. corresponding titles other MPs burgess borough citizen baron Cinque Ports. Knights of shire had prestige than burgesses burgesses stood for election increasing standing Parliament.\\n name \"knight of implied representative knight writ election referred to belted knight until 19th century 14th century men not knights commonly elected. act of Henry VI (23. stipulated eligible for election were knights notable esquires gentlemen estates sufficient to be knights no degree yeoman.\\n Knights of Shires notable Knights Counties no Knight Degree Yeoman.\\n Parliamentary Elections Act 1444.\\n From Simon de Montfort\\'s Parliament 1265 each shire sent two knights standard until 1826 Yorkshire gained two additional knights after disfranchisement Grampound borough. Under Representation of the People Act 1832 counties with larger populations sent more knights.Redistribution Seats Act 1885 split multiple-seat shire into single-seat divisions. standardisation franchise county borough constituencies differ slightly election expenses returning officer.\\n term \"knight of shire\" used for senior Conservative Party backbenchers rural constituencies England Wales.\\n Middle Ages\\n precursor English parliamentary system Magnum Concilium advice chamber king peers ecclesiastics knights king two from each county. 1264 council evolved representatives all members elected (Montfort\\'s Parliament. parliament gained legislative powers in 1295 Model Parliament. 1341 Edward III split Parliament into bicameral structure House of Commons House Lords. 1376 Sir Peter de la Mare complaints about taxes accounting royal expenditures criticism king\\'s management military. de la Mare imprisoned value single representative voice Commons. office of Speaker of House of Commons created. released after Edward III became Speaker 1377.\\n Before 1430 elections knights of shire not restricted to forty-shilling freeholders. original county franchise Charles Seymour all free householders voted parliamentary qualification \\'resiance residence qualification.Parliament county franchise. Act of 1430 declaring elections crowded by low estate confusion enacted suffrage limited to qualified by freehold of 40s.\\n Parliament England legislated uniform county franchise Electors of Knights of the Shires Act 1429 (8 Hen. 6. c. 7). included recital in Electors Shire Act 1432 (10 Hen. 6. c. 2) amended re-enacted 1430 law resident county forty-shilling freehold voter.\\n authorities different types property as forty-shilling freeholds. residence requirement disappeared.\\n Until Representation of People Act 1832 each county two knights Yorkshire increased to four in 1826). knights varied evolved over time. 1832 Act increased knights to six.\\n term became obsolete due to destruction of counties Redistribution of Seats Act 1885 widened structure electorate Reform Act of 1884 Representation of the People Act 1918. term died out 20th century Members Parliament county constituencies whole county.\\n term occasionally features elderly Members of Parliament Conservative backbenchers long service knighthood.\\n'"
      ]
     },
     "execution_count": 20,
     "metadata": {},
     "output_type": "execute_result"
    }
   ],
   "source": [
    "compressed_prompt = llm_lingua.compress_prompt(\n",
    "    \"\"\"Knight of the shire (Latin: milites comitatus)[1] was the formal title for a member of parliament (MP) representing a county constituency in the British House of Commons, from its origins in the medieval Parliament of England until the Redistribution of Seats Act 1885 ended the practice of each county (or shire) forming a single constituency. The corresponding titles for other MPs were burgess in a borough constituency (or citizen if the borough had city status) and baron for a Cinque Ports constituency. Knights of the shire had more prestige than burgesses, and sitting burgesses often stood for election for the shire in the hope of increasing their standing in Parliament.\n",
    "\n",
    "The name \"knight of the shire\" originally implied that the representative had to be a knight, and the writ of election referred to a belted knight until the 19th century;[1] but by the 14th century men who were not knights were commonly elected.[2] An act of Henry VI (23 Hen. 6. c. 14) stipulated that those eligible for election were knights and \"such notable esquires and gentlemen as have estates sufficient to be knights, and by no means of the degree of yeoman\".[3]\n",
    "\n",
    "So that the Knights of the Shires for the Parliament hereafter to be chosen, shall be notable Knights of the same Counties for the which they shall [so] be chosen, or otherwise such notable Esquires, Gentlemen [of birth] of the same Counties, as shall be able to be Knights; and no Man to be such Knight which standeth in the Degree of a Yeoman and under.\n",
    "— Parliamentary Elections Act 1444 (23 Hen. 6. c. 14)\n",
    "From Simon de Montfort's Parliament in 1265, each shire sent two knights, and the number was standard until 1826 when Yorkshire gained two additional knights after the disfranchisement of Grampound borough. Under the Representation of the People Act 1832 counties with larger populations sent more knights than smaller ones. The Redistribution of Seats Act 1885 split each multiple-seat shire into multiple single-seat divisions. This change, together with the concomitant standardisation of the franchise, means that county and borough constituencies now differ only slightly, as to election expenses and their type of returning officer.\n",
    "\n",
    "The term \"knight of the shire\" has been used more recently in a tongue-in-cheek manner for senior Conservative Party backbenchers representing rural constituencies in England and Wales.[4]\n",
    "\n",
    "Middle Ages\n",
    "The precursor to the English parliamentary system was a Magnum Concilium or great council, an advice chamber to the king consisting of peers, ecclesiastics, and knights of the shire (with the king summoning two of these from each county). In 1264, this council evolved to include representatives from the boroughs (burgesses), requiring that all members be elected (Montfort's Parliament). The parliament gained legislative powers in 1295 (the Model Parliament). In the following century, in 1341, Edward III split Parliament into its current bicameral structure, which includes the House of Commons and the House of Lords. It opted in 1376 to appoint Sir Peter de la Mare to convey to the Lords complaints about heavy taxes, demands for an accounting of the royal expenditures, and criticism of the king's management of the military. Although de la Mare was imprisoned for his actions, many recognised the value of a single representative voice for the Commons. Accordingly, an office of Speaker of the House of Commons was created.[5][6] Mare was soon released after the death of Edward III and became the Speaker of the House again in 1377.\n",
    "\n",
    "Before 1430, the franchise (electorate) for elections of knights of the shire was not restricted to forty-shilling freeholders.[7] Discussing the original county franchise, historian Charles Seymour suggested, \"It is probable that all free inhabitant householders voted and that the parliamentary qualification was, like that which compelled attendance in the county court, merely a 'resiance' or residence qualification.\" He goes on to explain why Parliament decided to legislate about the county franchise. \"The Act of 1430,\" he said, \"after declaring that elections had been crowded by many persons of low estate, and that confusion had thereby resulted, accordingly enacted that the suffrage should be limited to persons qualified by a freehold of 40s\".[8]\n",
    "\n",
    "The Parliament of England legislated the new uniform county franchise, in the Electors of Knights of the Shires Act 1429 (8 Hen. 6. c. 7). It was included as a recital in the Electors of Knights of the Shire Act 1432 (10 Hen. 6. c. 2), which amended and re-enacted the 1430 law to make clear that the resident of a county had to have a forty-shilling freehold in that county in order to be a voter there.\n",
    "\n",
    "Over the course of time, authorities began to consider a great number of different types of property as forty-shilling freeholds. Subsequently, the residence requirement disappeared.\n",
    "\n",
    "Reform\n",
    "Until the Representation of the People Act 1832, each county continued to send two knights (apart from Yorkshire, which had its number of knights increased to four in 1826). How these knights were chosen varied from one county to the next and evolved over time. The 1832 Act increased the number of knights sent by some populous counties to as many as six.\n",
    "\n",
    "Modern usage\n",
    "The term became obsolete due to the final destruction of counties mentioned by the Redistribution of Seats Act 1885 and widened structure of electorate in the Reform Act of 1884 (the Third Great Reform Act), and in the Representation of the People Act 1918. The term rapidly died out during the 20th century in reference to Members of Parliament who represent county constituencies; for they no longer represented a whole county.\n",
    "\n",
    "The term occasionally features as journalese to describe elderly Members of Parliament, usually any Conservative backbenchers with long service who possess a knighthood.[4]\n",
    "\n",
    "\"\"\",\n",
    "    rate=0.5,\n",
    "    force_tokens=[\"!\", \".\", \"?\", \"\\n\"],\n",
    "    drop_consecutive=True,\n",
    ")\n",
    "prompt = \"\\n\\n\".join([compressed_prompt[\"compressed_prompt\"]])\n",
    "prompt"
   ]
  },
  {
   "cell_type": "code",
   "execution_count": null,
   "metadata": {},
   "outputs": [],
   "source": []
  }
 ],
 "metadata": {
  "kernelspec": {
   "display_name": "Python 3",
   "language": "python",
   "name": "python3"
  },
  "language_info": {
   "codemirror_mode": {
    "name": "ipython",
    "version": 3
   },
   "file_extension": ".py",
   "mimetype": "text/x-python",
   "name": "python",
   "nbconvert_exporter": "python",
   "pygments_lexer": "ipython3",
   "version": "3.12.4"
  }
 },
 "nbformat": 4,
 "nbformat_minor": 2
}
